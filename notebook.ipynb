{
  "nbformat": 4,
  "nbformat_minor": 0,
  "metadata": {
    "colab": {
      "provenance": []
    },
    "kernelspec": {
      "name": "python3",
      "display_name": "Python 3"
    },
    "language_info": {
      "name": "python"
    }
  },
  "cells": [
    {
      "cell_type": "markdown",
      "source": [
        "# Kolekcja danych\n"
      ],
      "metadata": {
        "id": "gfQOhprWIBTW"
      }
    },
    {
      "cell_type": "code",
      "execution_count": null,
      "metadata": {
        "id": "BKbLOjYwWRli"
      },
      "outputs": [],
      "source": [
        "import pandas as pd\n",
        "\n",
        "heart_disease_url = 'https://archive.ics.uci.edu/ml/machine-learning-databases/heart-disease/processed.cleveland.data'\n",
        "col_names = ['age','sex', 'cp','trestbps','chol','fbs','restecg','thalach','exang','oldpeak','slope', 'ca','thal','num']\n",
        "\n",
        "data = pd.read_csv(heart_disease_url,names=col_names)\n",
        "\n",
        "# sex 1 == male; 2 == female\n",
        "# cp - chest pain type (1 == typical angina; 2 == atypical angina; 3 == non-anginal pain; 4 == asymptomatic)\n",
        "# trestbps - resting blood presure\n",
        "# chol - cholesterol lebel\n",
        "# fbs - (fasting blood sugar > 120 mg/dl)  (1 = true; 0 = false)\n",
        "# restecg - resting electrocardiographic results (0 == normal, 1 == abnormality; 2 == left Estes hypertophy )\n",
        "# thalach - maximum heart rate achieved\n",
        "# exang -  exercise induced angina (1 == yes; 0 == no)\n",
        "# oldpeak - ST depression induced by exercise relative to rest\n",
        "# slope - the slope of the peak exercise ST segment (1 == upsloping; 2 == flat; 3 == downsloping)\n",
        "# ca: number of major vessels colored by flourosopy (0-3) \n",
        "# thal: (3 == normal; 6 == fixed defect; 7 == reversable defect)\n",
        "# num: diagnosis of heart disease (angiographic disease status); (0: < 50% diameter narrowing; 1: > 50% diameter narrowing)\n",
        "\n"
      ]
    },
    {
      "cell_type": "markdown",
      "source": [
        "# Eksploracja i czyszczenie danych"
      ],
      "metadata": {
        "id": "KF36LUhkIRAG"
      }
    },
    {
      "cell_type": "code",
      "source": [
        "data.head()"
      ],
      "metadata": {
        "colab": {
          "base_uri": "https://localhost:8080/",
          "height": 206
        },
        "id": "A-o-SPqGKKhy",
        "outputId": "bef0cacb-9d47-46ac-c3c0-bd5bb967b296"
      },
      "execution_count": null,
      "outputs": [
        {
          "output_type": "execute_result",
          "data": {
            "text/plain": [
              "    age  sex   cp  trestbps   chol  fbs  restecg  thalach  exang  oldpeak  \\\n",
              "0  63.0  1.0  1.0     145.0  233.0  1.0      2.0    150.0    0.0      2.3   \n",
              "1  67.0  1.0  4.0     160.0  286.0  0.0      2.0    108.0    1.0      1.5   \n",
              "2  67.0  1.0  4.0     120.0  229.0  0.0      2.0    129.0    1.0      2.6   \n",
              "3  37.0  1.0  3.0     130.0  250.0  0.0      0.0    187.0    0.0      3.5   \n",
              "4  41.0  0.0  2.0     130.0  204.0  0.0      2.0    172.0    0.0      1.4   \n",
              "\n",
              "   slope   ca thal  num  \n",
              "0    3.0  0.0  6.0    0  \n",
              "1    2.0  3.0  3.0    2  \n",
              "2    2.0  2.0  7.0    1  \n",
              "3    3.0  0.0  3.0    0  \n",
              "4    1.0  0.0  3.0    0  "
            ],
            "text/html": [
              "\n",
              "  <div id=\"df-79cffbc3-ff89-4558-943c-b98a2ff315e8\">\n",
              "    <div class=\"colab-df-container\">\n",
              "      <div>\n",
              "<style scoped>\n",
              "    .dataframe tbody tr th:only-of-type {\n",
              "        vertical-align: middle;\n",
              "    }\n",
              "\n",
              "    .dataframe tbody tr th {\n",
              "        vertical-align: top;\n",
              "    }\n",
              "\n",
              "    .dataframe thead th {\n",
              "        text-align: right;\n",
              "    }\n",
              "</style>\n",
              "<table border=\"1\" class=\"dataframe\">\n",
              "  <thead>\n",
              "    <tr style=\"text-align: right;\">\n",
              "      <th></th>\n",
              "      <th>age</th>\n",
              "      <th>sex</th>\n",
              "      <th>cp</th>\n",
              "      <th>trestbps</th>\n",
              "      <th>chol</th>\n",
              "      <th>fbs</th>\n",
              "      <th>restecg</th>\n",
              "      <th>thalach</th>\n",
              "      <th>exang</th>\n",
              "      <th>oldpeak</th>\n",
              "      <th>slope</th>\n",
              "      <th>ca</th>\n",
              "      <th>thal</th>\n",
              "      <th>num</th>\n",
              "    </tr>\n",
              "  </thead>\n",
              "  <tbody>\n",
              "    <tr>\n",
              "      <th>0</th>\n",
              "      <td>63.0</td>\n",
              "      <td>1.0</td>\n",
              "      <td>1.0</td>\n",
              "      <td>145.0</td>\n",
              "      <td>233.0</td>\n",
              "      <td>1.0</td>\n",
              "      <td>2.0</td>\n",
              "      <td>150.0</td>\n",
              "      <td>0.0</td>\n",
              "      <td>2.3</td>\n",
              "      <td>3.0</td>\n",
              "      <td>0.0</td>\n",
              "      <td>6.0</td>\n",
              "      <td>0</td>\n",
              "    </tr>\n",
              "    <tr>\n",
              "      <th>1</th>\n",
              "      <td>67.0</td>\n",
              "      <td>1.0</td>\n",
              "      <td>4.0</td>\n",
              "      <td>160.0</td>\n",
              "      <td>286.0</td>\n",
              "      <td>0.0</td>\n",
              "      <td>2.0</td>\n",
              "      <td>108.0</td>\n",
              "      <td>1.0</td>\n",
              "      <td>1.5</td>\n",
              "      <td>2.0</td>\n",
              "      <td>3.0</td>\n",
              "      <td>3.0</td>\n",
              "      <td>2</td>\n",
              "    </tr>\n",
              "    <tr>\n",
              "      <th>2</th>\n",
              "      <td>67.0</td>\n",
              "      <td>1.0</td>\n",
              "      <td>4.0</td>\n",
              "      <td>120.0</td>\n",
              "      <td>229.0</td>\n",
              "      <td>0.0</td>\n",
              "      <td>2.0</td>\n",
              "      <td>129.0</td>\n",
              "      <td>1.0</td>\n",
              "      <td>2.6</td>\n",
              "      <td>2.0</td>\n",
              "      <td>2.0</td>\n",
              "      <td>7.0</td>\n",
              "      <td>1</td>\n",
              "    </tr>\n",
              "    <tr>\n",
              "      <th>3</th>\n",
              "      <td>37.0</td>\n",
              "      <td>1.0</td>\n",
              "      <td>3.0</td>\n",
              "      <td>130.0</td>\n",
              "      <td>250.0</td>\n",
              "      <td>0.0</td>\n",
              "      <td>0.0</td>\n",
              "      <td>187.0</td>\n",
              "      <td>0.0</td>\n",
              "      <td>3.5</td>\n",
              "      <td>3.0</td>\n",
              "      <td>0.0</td>\n",
              "      <td>3.0</td>\n",
              "      <td>0</td>\n",
              "    </tr>\n",
              "    <tr>\n",
              "      <th>4</th>\n",
              "      <td>41.0</td>\n",
              "      <td>0.0</td>\n",
              "      <td>2.0</td>\n",
              "      <td>130.0</td>\n",
              "      <td>204.0</td>\n",
              "      <td>0.0</td>\n",
              "      <td>2.0</td>\n",
              "      <td>172.0</td>\n",
              "      <td>0.0</td>\n",
              "      <td>1.4</td>\n",
              "      <td>1.0</td>\n",
              "      <td>0.0</td>\n",
              "      <td>3.0</td>\n",
              "      <td>0</td>\n",
              "    </tr>\n",
              "  </tbody>\n",
              "</table>\n",
              "</div>\n",
              "      <button class=\"colab-df-convert\" onclick=\"convertToInteractive('df-79cffbc3-ff89-4558-943c-b98a2ff315e8')\"\n",
              "              title=\"Convert this dataframe to an interactive table.\"\n",
              "              style=\"display:none;\">\n",
              "        \n",
              "  <svg xmlns=\"http://www.w3.org/2000/svg\" height=\"24px\"viewBox=\"0 0 24 24\"\n",
              "       width=\"24px\">\n",
              "    <path d=\"M0 0h24v24H0V0z\" fill=\"none\"/>\n",
              "    <path d=\"M18.56 5.44l.94 2.06.94-2.06 2.06-.94-2.06-.94-.94-2.06-.94 2.06-2.06.94zm-11 1L8.5 8.5l.94-2.06 2.06-.94-2.06-.94L8.5 2.5l-.94 2.06-2.06.94zm10 10l.94 2.06.94-2.06 2.06-.94-2.06-.94-.94-2.06-.94 2.06-2.06.94z\"/><path d=\"M17.41 7.96l-1.37-1.37c-.4-.4-.92-.59-1.43-.59-.52 0-1.04.2-1.43.59L10.3 9.45l-7.72 7.72c-.78.78-.78 2.05 0 2.83L4 21.41c.39.39.9.59 1.41.59.51 0 1.02-.2 1.41-.59l7.78-7.78 2.81-2.81c.8-.78.8-2.07 0-2.86zM5.41 20L4 18.59l7.72-7.72 1.47 1.35L5.41 20z\"/>\n",
              "  </svg>\n",
              "      </button>\n",
              "      \n",
              "  <style>\n",
              "    .colab-df-container {\n",
              "      display:flex;\n",
              "      flex-wrap:wrap;\n",
              "      gap: 12px;\n",
              "    }\n",
              "\n",
              "    .colab-df-convert {\n",
              "      background-color: #E8F0FE;\n",
              "      border: none;\n",
              "      border-radius: 50%;\n",
              "      cursor: pointer;\n",
              "      display: none;\n",
              "      fill: #1967D2;\n",
              "      height: 32px;\n",
              "      padding: 0 0 0 0;\n",
              "      width: 32px;\n",
              "    }\n",
              "\n",
              "    .colab-df-convert:hover {\n",
              "      background-color: #E2EBFA;\n",
              "      box-shadow: 0px 1px 2px rgba(60, 64, 67, 0.3), 0px 1px 3px 1px rgba(60, 64, 67, 0.15);\n",
              "      fill: #174EA6;\n",
              "    }\n",
              "\n",
              "    [theme=dark] .colab-df-convert {\n",
              "      background-color: #3B4455;\n",
              "      fill: #D2E3FC;\n",
              "    }\n",
              "\n",
              "    [theme=dark] .colab-df-convert:hover {\n",
              "      background-color: #434B5C;\n",
              "      box-shadow: 0px 1px 3px 1px rgba(0, 0, 0, 0.15);\n",
              "      filter: drop-shadow(0px 1px 2px rgba(0, 0, 0, 0.3));\n",
              "      fill: #FFFFFF;\n",
              "    }\n",
              "  </style>\n",
              "\n",
              "      <script>\n",
              "        const buttonEl =\n",
              "          document.querySelector('#df-79cffbc3-ff89-4558-943c-b98a2ff315e8 button.colab-df-convert');\n",
              "        buttonEl.style.display =\n",
              "          google.colab.kernel.accessAllowed ? 'block' : 'none';\n",
              "\n",
              "        async function convertToInteractive(key) {\n",
              "          const element = document.querySelector('#df-79cffbc3-ff89-4558-943c-b98a2ff315e8');\n",
              "          const dataTable =\n",
              "            await google.colab.kernel.invokeFunction('convertToInteractive',\n",
              "                                                     [key], {});\n",
              "          if (!dataTable) return;\n",
              "\n",
              "          const docLinkHtml = 'Like what you see? Visit the ' +\n",
              "            '<a target=\"_blank\" href=https://colab.research.google.com/notebooks/data_table.ipynb>data table notebook</a>'\n",
              "            + ' to learn more about interactive tables.';\n",
              "          element.innerHTML = '';\n",
              "          dataTable['output_type'] = 'display_data';\n",
              "          await google.colab.output.renderOutput(dataTable, element);\n",
              "          const docLink = document.createElement('div');\n",
              "          docLink.innerHTML = docLinkHtml;\n",
              "          element.appendChild(docLink);\n",
              "        }\n",
              "      </script>\n",
              "    </div>\n",
              "  </div>\n",
              "  "
            ]
          },
          "metadata": {},
          "execution_count": 2
        }
      ]
    },
    {
      "cell_type": "code",
      "source": [
        "data.describe()"
      ],
      "metadata": {
        "colab": {
          "base_uri": "https://localhost:8080/",
          "height": 300
        },
        "id": "hXXbKrysX6dU",
        "outputId": "6612202b-7c22-4478-da84-11299247d704"
      },
      "execution_count": null,
      "outputs": [
        {
          "output_type": "execute_result",
          "data": {
            "text/plain": [
              "              age         sex          cp    trestbps        chol         fbs  \\\n",
              "count  303.000000  303.000000  303.000000  303.000000  303.000000  303.000000   \n",
              "mean    54.438944    0.679868    3.158416  131.689769  246.693069    0.148515   \n",
              "std      9.038662    0.467299    0.960126   17.599748   51.776918    0.356198   \n",
              "min     29.000000    0.000000    1.000000   94.000000  126.000000    0.000000   \n",
              "25%     48.000000    0.000000    3.000000  120.000000  211.000000    0.000000   \n",
              "50%     56.000000    1.000000    3.000000  130.000000  241.000000    0.000000   \n",
              "75%     61.000000    1.000000    4.000000  140.000000  275.000000    0.000000   \n",
              "max     77.000000    1.000000    4.000000  200.000000  564.000000    1.000000   \n",
              "\n",
              "          restecg     thalach       exang     oldpeak       slope         num  \n",
              "count  303.000000  303.000000  303.000000  303.000000  303.000000  303.000000  \n",
              "mean     0.990099  149.607261    0.326733    1.039604    1.600660    0.937294  \n",
              "std      0.994971   22.875003    0.469794    1.161075    0.616226    1.228536  \n",
              "min      0.000000   71.000000    0.000000    0.000000    1.000000    0.000000  \n",
              "25%      0.000000  133.500000    0.000000    0.000000    1.000000    0.000000  \n",
              "50%      1.000000  153.000000    0.000000    0.800000    2.000000    0.000000  \n",
              "75%      2.000000  166.000000    1.000000    1.600000    2.000000    2.000000  \n",
              "max      2.000000  202.000000    1.000000    6.200000    3.000000    4.000000  "
            ],
            "text/html": [
              "\n",
              "  <div id=\"df-d037dbe9-6c33-4396-9935-9d51b14d458a\">\n",
              "    <div class=\"colab-df-container\">\n",
              "      <div>\n",
              "<style scoped>\n",
              "    .dataframe tbody tr th:only-of-type {\n",
              "        vertical-align: middle;\n",
              "    }\n",
              "\n",
              "    .dataframe tbody tr th {\n",
              "        vertical-align: top;\n",
              "    }\n",
              "\n",
              "    .dataframe thead th {\n",
              "        text-align: right;\n",
              "    }\n",
              "</style>\n",
              "<table border=\"1\" class=\"dataframe\">\n",
              "  <thead>\n",
              "    <tr style=\"text-align: right;\">\n",
              "      <th></th>\n",
              "      <th>age</th>\n",
              "      <th>sex</th>\n",
              "      <th>cp</th>\n",
              "      <th>trestbps</th>\n",
              "      <th>chol</th>\n",
              "      <th>fbs</th>\n",
              "      <th>restecg</th>\n",
              "      <th>thalach</th>\n",
              "      <th>exang</th>\n",
              "      <th>oldpeak</th>\n",
              "      <th>slope</th>\n",
              "      <th>num</th>\n",
              "    </tr>\n",
              "  </thead>\n",
              "  <tbody>\n",
              "    <tr>\n",
              "      <th>count</th>\n",
              "      <td>303.000000</td>\n",
              "      <td>303.000000</td>\n",
              "      <td>303.000000</td>\n",
              "      <td>303.000000</td>\n",
              "      <td>303.000000</td>\n",
              "      <td>303.000000</td>\n",
              "      <td>303.000000</td>\n",
              "      <td>303.000000</td>\n",
              "      <td>303.000000</td>\n",
              "      <td>303.000000</td>\n",
              "      <td>303.000000</td>\n",
              "      <td>303.000000</td>\n",
              "    </tr>\n",
              "    <tr>\n",
              "      <th>mean</th>\n",
              "      <td>54.438944</td>\n",
              "      <td>0.679868</td>\n",
              "      <td>3.158416</td>\n",
              "      <td>131.689769</td>\n",
              "      <td>246.693069</td>\n",
              "      <td>0.148515</td>\n",
              "      <td>0.990099</td>\n",
              "      <td>149.607261</td>\n",
              "      <td>0.326733</td>\n",
              "      <td>1.039604</td>\n",
              "      <td>1.600660</td>\n",
              "      <td>0.937294</td>\n",
              "    </tr>\n",
              "    <tr>\n",
              "      <th>std</th>\n",
              "      <td>9.038662</td>\n",
              "      <td>0.467299</td>\n",
              "      <td>0.960126</td>\n",
              "      <td>17.599748</td>\n",
              "      <td>51.776918</td>\n",
              "      <td>0.356198</td>\n",
              "      <td>0.994971</td>\n",
              "      <td>22.875003</td>\n",
              "      <td>0.469794</td>\n",
              "      <td>1.161075</td>\n",
              "      <td>0.616226</td>\n",
              "      <td>1.228536</td>\n",
              "    </tr>\n",
              "    <tr>\n",
              "      <th>min</th>\n",
              "      <td>29.000000</td>\n",
              "      <td>0.000000</td>\n",
              "      <td>1.000000</td>\n",
              "      <td>94.000000</td>\n",
              "      <td>126.000000</td>\n",
              "      <td>0.000000</td>\n",
              "      <td>0.000000</td>\n",
              "      <td>71.000000</td>\n",
              "      <td>0.000000</td>\n",
              "      <td>0.000000</td>\n",
              "      <td>1.000000</td>\n",
              "      <td>0.000000</td>\n",
              "    </tr>\n",
              "    <tr>\n",
              "      <th>25%</th>\n",
              "      <td>48.000000</td>\n",
              "      <td>0.000000</td>\n",
              "      <td>3.000000</td>\n",
              "      <td>120.000000</td>\n",
              "      <td>211.000000</td>\n",
              "      <td>0.000000</td>\n",
              "      <td>0.000000</td>\n",
              "      <td>133.500000</td>\n",
              "      <td>0.000000</td>\n",
              "      <td>0.000000</td>\n",
              "      <td>1.000000</td>\n",
              "      <td>0.000000</td>\n",
              "    </tr>\n",
              "    <tr>\n",
              "      <th>50%</th>\n",
              "      <td>56.000000</td>\n",
              "      <td>1.000000</td>\n",
              "      <td>3.000000</td>\n",
              "      <td>130.000000</td>\n",
              "      <td>241.000000</td>\n",
              "      <td>0.000000</td>\n",
              "      <td>1.000000</td>\n",
              "      <td>153.000000</td>\n",
              "      <td>0.000000</td>\n",
              "      <td>0.800000</td>\n",
              "      <td>2.000000</td>\n",
              "      <td>0.000000</td>\n",
              "    </tr>\n",
              "    <tr>\n",
              "      <th>75%</th>\n",
              "      <td>61.000000</td>\n",
              "      <td>1.000000</td>\n",
              "      <td>4.000000</td>\n",
              "      <td>140.000000</td>\n",
              "      <td>275.000000</td>\n",
              "      <td>0.000000</td>\n",
              "      <td>2.000000</td>\n",
              "      <td>166.000000</td>\n",
              "      <td>1.000000</td>\n",
              "      <td>1.600000</td>\n",
              "      <td>2.000000</td>\n",
              "      <td>2.000000</td>\n",
              "    </tr>\n",
              "    <tr>\n",
              "      <th>max</th>\n",
              "      <td>77.000000</td>\n",
              "      <td>1.000000</td>\n",
              "      <td>4.000000</td>\n",
              "      <td>200.000000</td>\n",
              "      <td>564.000000</td>\n",
              "      <td>1.000000</td>\n",
              "      <td>2.000000</td>\n",
              "      <td>202.000000</td>\n",
              "      <td>1.000000</td>\n",
              "      <td>6.200000</td>\n",
              "      <td>3.000000</td>\n",
              "      <td>4.000000</td>\n",
              "    </tr>\n",
              "  </tbody>\n",
              "</table>\n",
              "</div>\n",
              "      <button class=\"colab-df-convert\" onclick=\"convertToInteractive('df-d037dbe9-6c33-4396-9935-9d51b14d458a')\"\n",
              "              title=\"Convert this dataframe to an interactive table.\"\n",
              "              style=\"display:none;\">\n",
              "        \n",
              "  <svg xmlns=\"http://www.w3.org/2000/svg\" height=\"24px\"viewBox=\"0 0 24 24\"\n",
              "       width=\"24px\">\n",
              "    <path d=\"M0 0h24v24H0V0z\" fill=\"none\"/>\n",
              "    <path d=\"M18.56 5.44l.94 2.06.94-2.06 2.06-.94-2.06-.94-.94-2.06-.94 2.06-2.06.94zm-11 1L8.5 8.5l.94-2.06 2.06-.94-2.06-.94L8.5 2.5l-.94 2.06-2.06.94zm10 10l.94 2.06.94-2.06 2.06-.94-2.06-.94-.94-2.06-.94 2.06-2.06.94z\"/><path d=\"M17.41 7.96l-1.37-1.37c-.4-.4-.92-.59-1.43-.59-.52 0-1.04.2-1.43.59L10.3 9.45l-7.72 7.72c-.78.78-.78 2.05 0 2.83L4 21.41c.39.39.9.59 1.41.59.51 0 1.02-.2 1.41-.59l7.78-7.78 2.81-2.81c.8-.78.8-2.07 0-2.86zM5.41 20L4 18.59l7.72-7.72 1.47 1.35L5.41 20z\"/>\n",
              "  </svg>\n",
              "      </button>\n",
              "      \n",
              "  <style>\n",
              "    .colab-df-container {\n",
              "      display:flex;\n",
              "      flex-wrap:wrap;\n",
              "      gap: 12px;\n",
              "    }\n",
              "\n",
              "    .colab-df-convert {\n",
              "      background-color: #E8F0FE;\n",
              "      border: none;\n",
              "      border-radius: 50%;\n",
              "      cursor: pointer;\n",
              "      display: none;\n",
              "      fill: #1967D2;\n",
              "      height: 32px;\n",
              "      padding: 0 0 0 0;\n",
              "      width: 32px;\n",
              "    }\n",
              "\n",
              "    .colab-df-convert:hover {\n",
              "      background-color: #E2EBFA;\n",
              "      box-shadow: 0px 1px 2px rgba(60, 64, 67, 0.3), 0px 1px 3px 1px rgba(60, 64, 67, 0.15);\n",
              "      fill: #174EA6;\n",
              "    }\n",
              "\n",
              "    [theme=dark] .colab-df-convert {\n",
              "      background-color: #3B4455;\n",
              "      fill: #D2E3FC;\n",
              "    }\n",
              "\n",
              "    [theme=dark] .colab-df-convert:hover {\n",
              "      background-color: #434B5C;\n",
              "      box-shadow: 0px 1px 3px 1px rgba(0, 0, 0, 0.15);\n",
              "      filter: drop-shadow(0px 1px 2px rgba(0, 0, 0, 0.3));\n",
              "      fill: #FFFFFF;\n",
              "    }\n",
              "  </style>\n",
              "\n",
              "      <script>\n",
              "        const buttonEl =\n",
              "          document.querySelector('#df-d037dbe9-6c33-4396-9935-9d51b14d458a button.colab-df-convert');\n",
              "        buttonEl.style.display =\n",
              "          google.colab.kernel.accessAllowed ? 'block' : 'none';\n",
              "\n",
              "        async function convertToInteractive(key) {\n",
              "          const element = document.querySelector('#df-d037dbe9-6c33-4396-9935-9d51b14d458a');\n",
              "          const dataTable =\n",
              "            await google.colab.kernel.invokeFunction('convertToInteractive',\n",
              "                                                     [key], {});\n",
              "          if (!dataTable) return;\n",
              "\n",
              "          const docLinkHtml = 'Like what you see? Visit the ' +\n",
              "            '<a target=\"_blank\" href=https://colab.research.google.com/notebooks/data_table.ipynb>data table notebook</a>'\n",
              "            + ' to learn more about interactive tables.';\n",
              "          element.innerHTML = '';\n",
              "          dataTable['output_type'] = 'display_data';\n",
              "          await google.colab.output.renderOutput(dataTable, element);\n",
              "          const docLink = document.createElement('div');\n",
              "          docLink.innerHTML = docLinkHtml;\n",
              "          element.appendChild(docLink);\n",
              "        }\n",
              "      </script>\n",
              "    </div>\n",
              "  </div>\n",
              "  "
            ]
          },
          "metadata": {},
          "execution_count": 3
        }
      ]
    },
    {
      "cell_type": "code",
      "source": [
        "nulls = data.isnull().sum()\n",
        "nulls"
      ],
      "metadata": {
        "colab": {
          "base_uri": "https://localhost:8080/"
        },
        "id": "F2c383JSX7WY",
        "outputId": "37b3f283-9995-4c8c-af71-b33260072cb9"
      },
      "execution_count": null,
      "outputs": [
        {
          "output_type": "execute_result",
          "data": {
            "text/plain": [
              "age         0\n",
              "sex         0\n",
              "cp          0\n",
              "trestbps    0\n",
              "chol        0\n",
              "fbs         0\n",
              "restecg     0\n",
              "thalach     0\n",
              "exang       0\n",
              "oldpeak     0\n",
              "slope       0\n",
              "ca          0\n",
              "thal        0\n",
              "num         0\n",
              "dtype: int64"
            ]
          },
          "metadata": {},
          "execution_count": 4
        }
      ]
    },
    {
      "cell_type": "markdown",
      "source": [
        "Brak wartości typu null, zbiór jest czysty."
      ],
      "metadata": {
        "id": "fK-q2gkzHYq7"
      }
    },
    {
      "cell_type": "code",
      "source": [
        "pd.plotting.register_matplotlib_converters()\n",
        "import matplotlib.pyplot as plt\n",
        "%matplotlib inline\n",
        "import seaborn as sns\n",
        "\n",
        "plt.figure(figsize=(15,5))\n",
        "corr = data.corr()\n",
        "sns.heatmap(corr, cmap=\"Blues\", annot=True,fmt=\".1f\")"
      ],
      "metadata": {
        "colab": {
          "base_uri": "https://localhost:8080/",
          "height": 342
        },
        "id": "N_uKpRORX7dF",
        "outputId": "02a55473-2129-40c9-af1d-1441200bc0fd"
      },
      "execution_count": null,
      "outputs": [
        {
          "output_type": "execute_result",
          "data": {
            "text/plain": [
              "<matplotlib.axes._subplots.AxesSubplot at 0x7f240bcd9d30>"
            ]
          },
          "metadata": {},
          "execution_count": 5
        },
        {
          "output_type": "display_data",
          "data": {
            "text/plain": [
              "<Figure size 1080x360 with 2 Axes>"
            ],
            "image/png": "[encoded data removed]"
          },
          "metadata": {
            "needs_background": "light"
          }
        }
      ]
    },
    {
      "cell_type": "code",
      "source": [
        "import numpy as np\n",
        "data = data.replace(\"?\", np.nan) \n",
        "data.dropna(inplace = True)\n",
        "\n",
        "y = data.num\n",
        "\n",
        "X = data.drop(['num','fbs'], axis=1)"
      ],
      "metadata": {
        "id": "MkgpDFP9aWqW"
      },
      "execution_count": null,
      "outputs": []
    },
    {
      "cell_type": "markdown",
      "source": [
        "Mimo braku wartości null, zbiór okazał się posiadać wartości '?'. Zdecydowaliśmy się usunąć te rekordy, gdyż jest ich mało"
      ],
      "metadata": {
        "id": "J3b-UA6-Hfol"
      }
    },
    {
      "cell_type": "code",
      "source": [
        "y.value_counts() "
      ],
      "metadata": {
        "colab": {
          "base_uri": "https://localhost:8080/"
        },
        "id": "71Pd28ERIGi7",
        "outputId": "5b3c1185-c2dd-43e7-9790-cad3e6af5762"
      },
      "execution_count": null,
      "outputs": [
        {
          "output_type": "execute_result",
          "data": {
            "text/plain": [
              "0    160\n",
              "1     54\n",
              "2     35\n",
              "3     35\n",
              "4     13\n",
              "Name: num, dtype: int64"
            ]
          },
          "metadata": {},
          "execution_count": 7
        }
      ]
    },
    {
      "cell_type": "code",
      "source": [
        "plt.figure(figsize=(10,10))\n",
        "sns.histplot(y,discrete=True)"
      ],
      "metadata": {
        "colab": {
          "base_uri": "https://localhost:8080/",
          "height": 624
        },
        "id": "lS_mAjAbDZX4",
        "outputId": "fe1b7d80-1825-47c3-b8b6-9e4277d93c74"
      },
      "execution_count": null,
      "outputs": [
        {
          "output_type": "execute_result",
          "data": {
            "text/plain": [
              "<matplotlib.axes._subplots.AxesSubplot at 0x7f24093a5700>"
            ]
          },
          "metadata": {},
          "execution_count": 8
        },
        {
          "output_type": "display_data",
          "data": {
            "text/plain": [
              "<Figure size 720x720 with 1 Axes>"
            ],
            "image/png": "[encoded data removed]"
          },
          "metadata": {
            "needs_background": "light"
          }
        }
      ]
    },
    {
      "cell_type": "markdown",
      "source": [
        "Dane są nierówno rozłożne, będzie trzeba użyć stratify.\n"
      ],
      "metadata": {
        "id": "BfAIEEAkHwvj"
      }
    },
    {
      "cell_type": "markdown",
      "source": [
        "# Podział danych"
      ],
      "metadata": {
        "id": "g1zZjL3sIk-3"
      }
    },
    {
      "cell_type": "code",
      "source": [
        "from sklearn.model_selection import train_test_split\n",
        "X.ca = X.ca.astype('float64') \n",
        "X.thal = X.thal.astype('float64')\n",
        "X_train, X_valid, y_train, y_valid = train_test_split(X,y,train_size=0.75,test_size=0.25, random_state = 0,stratify=y)\n",
        "cols = list(X_train.columns)\n"
      ],
      "metadata": {
        "id": "gGYLMrw9aA0P"
      },
      "execution_count": null,
      "outputs": []
    },
    {
      "cell_type": "markdown",
      "source": [
        "# Skalowanie danych "
      ],
      "metadata": {
        "id": "sGGqBbbnH3X-"
      }
    },
    {
      "cell_type": "code",
      "source": [
        "from sklearn.preprocessing import StandardScaler, MinMaxScaler\n",
        "\n",
        "# normalizacja\n",
        "m = MinMaxScaler()\n",
        "norm_X_train = pd.DataFrame(m.fit_transform(X_train), columns=X_train.columns)\n",
        "norm_X_valid = pd.DataFrame(m.transform(X_valid), columns=X_train.columns)\n",
        "\n",
        "# standaryzacja\n",
        "s = StandardScaler()\n",
        "stand_X_train = pd.DataFrame(s.fit_transform(X_train), columns=X_train.columns)\n",
        "stand_X_valid = pd.DataFrame(s.transform(X_valid), columns=X_valid.columns)\n",
        "\n",
        "# standaryzacja i normalizacja\n",
        "\n",
        "stand_norm_X_train = pd.DataFrame(s.fit_transform(norm_X_train), columns=X_train.columns)\n",
        "stand_norm_X_valid = pd.DataFrame(s.transform(norm_X_valid), columns=X_train.columns)\n"
      ],
      "metadata": {
        "id": "GDjfcGmPb_ar"
      },
      "execution_count": null,
      "outputs": []
    },
    {
      "cell_type": "markdown",
      "source": [
        "# Modelowanie danych"
      ],
      "metadata": {
        "id": "lFV0rMIkIw0Q"
      }
    },
    {
      "cell_type": "markdown",
      "source": [
        "## SVM"
      ],
      "metadata": {
        "id": "4BcG-5JlItBg"
      }
    },
    {
      "cell_type": "code",
      "source": [
        "# model SVC_1 -> dane normalizowane\n",
        "\n",
        "from sklearn.svm import SVC\n",
        "from sklearn.metrics import accuracy_score\n",
        "model_1 = SVC(random_state=1)\n",
        "\n",
        "model_1.fit(norm_X_train,y_train)\n",
        "pred_1 = model_1.predict(norm_X_valid)\n",
        "accuracy_score(y_valid, pred_1)"
      ],
      "metadata": {
        "id": "kpFPKThRarFU",
        "colab": {
          "base_uri": "https://localhost:8080/"
        },
        "outputId": "fe83431a-35b4-435b-aecc-a2e0a30161f8"
      },
      "execution_count": null,
      "outputs": [
        {
          "output_type": "execute_result",
          "data": {
            "text/plain": [
              "0.5866666666666667"
            ]
          },
          "metadata": {},
          "execution_count": 11
        }
      ]
    },
    {
      "cell_type": "code",
      "source": [
        "# model SVC_2 -> dane standaryzowane\n",
        "\n",
        "model_2 = SVC(random_state=1)\n",
        "model_2.fit(stand_X_train, y_train)\n",
        "pred_2 = model_2.predict(stand_X_valid)\n",
        "print(f'Wielkosc y_valid: {y_valid.shape}, wielkosc pred_2: {pred_2.shape}')\n",
        "accuracy_score(y_valid,pred_2)"
      ],
      "metadata": {
        "colab": {
          "base_uri": "https://localhost:8080/"
        },
        "id": "Etc7Ctrtg-Fv",
        "outputId": "34175bea-4aaf-4cca-8038-ed05cf2a84c5"
      },
      "execution_count": null,
      "outputs": [
        {
          "output_type": "stream",
          "name": "stdout",
          "text": [
            "Wielkosc y_valid: (75,), wielkosc pred_2: (75,)\n"
          ]
        },
        {
          "output_type": "execute_result",
          "data": {
            "text/plain": [
              "0.6266666666666667"
            ]
          },
          "metadata": {},
          "execution_count": 12
        }
      ]
    },
    {
      "cell_type": "code",
      "source": [
        "# model SVC_3 -> dane normalizowane i standaryzowane\n",
        "model_3 = SVC(random_state=1)\n",
        "model_3.fit(stand_norm_X_train, y_train)\n",
        "pred_3 = model_3.predict(stand_norm_X_valid)\n",
        "accuracy_score(y_valid,pred_3)"
      ],
      "metadata": {
        "colab": {
          "base_uri": "https://localhost:8080/"
        },
        "id": "Rz2-jCFEk3R9",
        "outputId": "eabc7f13-b53a-42c9-edbc-b4a70e030ba2"
      },
      "execution_count": null,
      "outputs": [
        {
          "output_type": "execute_result",
          "data": {
            "text/plain": [
              "0.6266666666666667"
            ]
          },
          "metadata": {},
          "execution_count": 13
        }
      ]
    },
    {
      "cell_type": "code",
      "source": [
        "kernels = ['linear','rbf','poly','sigmoid']\n",
        "gammas = [0.01,0.1, 1, 10, 100]\n",
        "cs = [0.1, 1, 10, 100, 1000]\n",
        "for c in cs:\n",
        "    for gamma in gammas:\n",
        "        for k in kernels: \n",
        "            svc = SVC(kernel=k, gamma=gamma,C=c, random_state=1).fit(stand_norm_X_train, y_train)\n",
        "            pred_4 = svc.predict(stand_norm_X_valid)\n",
        "            print(\"gamma=\",gamma,\" | kernel=\",k,\" | c=\",c,\" | accuracy:\",accuracy_score(y_valid,pred_4))"
      ],
      "metadata": {
        "colab": {
          "base_uri": "https://localhost:8080/"
        },
        "id": "Ea5zow4WQmwq",
        "outputId": "456981ee-be35-49b2-a493-231cbd993062"
      },
      "execution_count": null,
      "outputs": [
        {
          "output_type": "stream",
          "name": "stdout",
          "text": [
            "gamma= 0.01  | kernel= linear  | c= 0.1  | accuracy: 0.64\n",
            "gamma= 0.01  | kernel= rbf  | c= 0.1  | accuracy: 0.5333333333333333\n",
            "gamma= 0.01  | kernel= poly  | c= 0.1  | accuracy: 0.5333333333333333\n",
            "gamma= 0.01  | kernel= sigmoid  | c= 0.1  | accuracy: 0.5333333333333333\n",
            "gamma= 0.1  | kernel= linear  | c= 0.1  | accuracy: 0.64\n",
            "gamma= 0.1  | kernel= rbf  | c= 0.1  | accuracy: 0.5333333333333333\n",
            "gamma= 0.1  | kernel= poly  | c= 0.1  | accuracy: 0.5333333333333333\n",
            "gamma= 0.1  | kernel= sigmoid  | c= 0.1  | accuracy: 0.5333333333333333\n",
            "gamma= 1  | kernel= linear  | c= 0.1  | accuracy: 0.64\n",
            "gamma= 1  | kernel= rbf  | c= 0.1  | accuracy: 0.5333333333333333\n",
            "gamma= 1  | kernel= poly  | c= 0.1  | accuracy: 0.6\n",
            "gamma= 1  | kernel= sigmoid  | c= 0.1  | accuracy: 0.6133333333333333\n",
            "gamma= 10  | kernel= linear  | c= 0.1  | accuracy: 0.64\n",
            "gamma= 10  | kernel= rbf  | c= 0.1  | accuracy: 0.5333333333333333\n",
            "gamma= 10  | kernel= poly  | c= 0.1  | accuracy: 0.6\n",
            "gamma= 10  | kernel= sigmoid  | c= 0.1  | accuracy: 0.6266666666666667\n",
            "gamma= 100  | kernel= linear  | c= 0.1  | accuracy: 0.64\n",
            "gamma= 100  | kernel= rbf  | c= 0.1  | accuracy: 0.5333333333333333\n",
            "gamma= 100  | kernel= poly  | c= 0.1  | accuracy: 0.6\n",
            "gamma= 100  | kernel= sigmoid  | c= 0.1  | accuracy: 0.6133333333333333\n",
            "gamma= 0.01  | kernel= linear  | c= 1  | accuracy: 0.6266666666666667\n",
            "gamma= 0.01  | kernel= rbf  | c= 1  | accuracy: 0.56\n",
            "gamma= 0.01  | kernel= poly  | c= 1  | accuracy: 0.5333333333333333\n",
            "gamma= 0.01  | kernel= sigmoid  | c= 1  | accuracy: 0.5466666666666666\n",
            "gamma= 0.1  | kernel= linear  | c= 1  | accuracy: 0.6266666666666667\n",
            "gamma= 0.1  | kernel= rbf  | c= 1  | accuracy: 0.6133333333333333\n",
            "gamma= 0.1  | kernel= poly  | c= 1  | accuracy: 0.5866666666666667\n",
            "gamma= 0.1  | kernel= sigmoid  | c= 1  | accuracy: 0.6133333333333333\n",
            "gamma= 1  | kernel= linear  | c= 1  | accuracy: 0.6266666666666667\n",
            "gamma= 1  | kernel= rbf  | c= 1  | accuracy: 0.5333333333333333\n",
            "gamma= 1  | kernel= poly  | c= 1  | accuracy: 0.6\n",
            "gamma= 1  | kernel= sigmoid  | c= 1  | accuracy: 0.5333333333333333\n",
            "gamma= 10  | kernel= linear  | c= 1  | accuracy: 0.6266666666666667\n",
            "gamma= 10  | kernel= rbf  | c= 1  | accuracy: 0.5333333333333333\n",
            "gamma= 10  | kernel= poly  | c= 1  | accuracy: 0.6\n",
            "gamma= 10  | kernel= sigmoid  | c= 1  | accuracy: 0.5333333333333333\n",
            "gamma= 100  | kernel= linear  | c= 1  | accuracy: 0.6266666666666667\n",
            "gamma= 100  | kernel= rbf  | c= 1  | accuracy: 0.5333333333333333\n",
            "gamma= 100  | kernel= poly  | c= 1  | accuracy: 0.6\n",
            "gamma= 100  | kernel= sigmoid  | c= 1  | accuracy: 0.5066666666666667\n",
            "gamma= 0.01  | kernel= linear  | c= 10  | accuracy: 0.6133333333333333\n",
            "gamma= 0.01  | kernel= rbf  | c= 10  | accuracy: 0.5733333333333334\n",
            "gamma= 0.01  | kernel= poly  | c= 10  | accuracy: 0.5333333333333333\n",
            "gamma= 0.01  | kernel= sigmoid  | c= 10  | accuracy: 0.64\n",
            "gamma= 0.1  | kernel= linear  | c= 10  | accuracy: 0.6133333333333333\n",
            "gamma= 0.1  | kernel= rbf  | c= 10  | accuracy: 0.5333333333333333\n",
            "gamma= 0.1  | kernel= poly  | c= 10  | accuracy: 0.56\n",
            "gamma= 0.1  | kernel= sigmoid  | c= 10  | accuracy: 0.5333333333333333\n",
            "gamma= 1  | kernel= linear  | c= 10  | accuracy: 0.6133333333333333\n",
            "gamma= 1  | kernel= rbf  | c= 10  | accuracy: 0.5466666666666666\n",
            "gamma= 1  | kernel= poly  | c= 10  | accuracy: 0.6\n",
            "gamma= 1  | kernel= sigmoid  | c= 10  | accuracy: 0.5066666666666667\n",
            "gamma= 10  | kernel= linear  | c= 10  | accuracy: 0.6133333333333333\n",
            "gamma= 10  | kernel= rbf  | c= 10  | accuracy: 0.5333333333333333\n",
            "gamma= 10  | kernel= poly  | c= 10  | accuracy: 0.6\n",
            "gamma= 10  | kernel= sigmoid  | c= 10  | accuracy: 0.48\n",
            "gamma= 100  | kernel= linear  | c= 10  | accuracy: 0.6133333333333333\n",
            "gamma= 100  | kernel= rbf  | c= 10  | accuracy: 0.5333333333333333\n",
            "gamma= 100  | kernel= poly  | c= 10  | accuracy: 0.6\n",
            "gamma= 100  | kernel= sigmoid  | c= 10  | accuracy: 0.52\n",
            "gamma= 0.01  | kernel= linear  | c= 100  | accuracy: 0.6133333333333333\n",
            "gamma= 0.01  | kernel= rbf  | c= 100  | accuracy: 0.6266666666666667\n",
            "gamma= 0.01  | kernel= poly  | c= 100  | accuracy: 0.5333333333333333\n",
            "gamma= 0.01  | kernel= sigmoid  | c= 100  | accuracy: 0.6266666666666667\n",
            "gamma= 0.1  | kernel= linear  | c= 100  | accuracy: 0.6133333333333333\n",
            "gamma= 0.1  | kernel= rbf  | c= 100  | accuracy: 0.5333333333333333\n",
            "gamma= 0.1  | kernel= poly  | c= 100  | accuracy: 0.6\n",
            "gamma= 0.1  | kernel= sigmoid  | c= 100  | accuracy: 0.5333333333333333\n",
            "gamma= 1  | kernel= linear  | c= 100  | accuracy: 0.6133333333333333\n",
            "gamma= 1  | kernel= rbf  | c= 100  | accuracy: 0.5466666666666666\n",
            "gamma= 1  | kernel= poly  | c= 100  | accuracy: 0.6\n",
            "gamma= 1  | kernel= sigmoid  | c= 100  | accuracy: 0.5066666666666667\n",
            "gamma= 10  | kernel= linear  | c= 100  | accuracy: 0.6133333333333333\n",
            "gamma= 10  | kernel= rbf  | c= 100  | accuracy: 0.5333333333333333\n",
            "gamma= 10  | kernel= poly  | c= 100  | accuracy: 0.6\n",
            "gamma= 10  | kernel= sigmoid  | c= 100  | accuracy: 0.4666666666666667\n",
            "gamma= 100  | kernel= linear  | c= 100  | accuracy: 0.6133333333333333\n",
            "gamma= 100  | kernel= rbf  | c= 100  | accuracy: 0.5333333333333333\n",
            "gamma= 100  | kernel= poly  | c= 100  | accuracy: 0.6\n",
            "gamma= 100  | kernel= sigmoid  | c= 100  | accuracy: 0.49333333333333335\n",
            "gamma= 0.01  | kernel= linear  | c= 1000  | accuracy: 0.6133333333333333\n",
            "gamma= 0.01  | kernel= rbf  | c= 1000  | accuracy: 0.56\n",
            "gamma= 0.01  | kernel= poly  | c= 1000  | accuracy: 0.5866666666666667\n",
            "gamma= 0.01  | kernel= sigmoid  | c= 1000  | accuracy: 0.64\n",
            "gamma= 0.1  | kernel= linear  | c= 1000  | accuracy: 0.6133333333333333\n",
            "gamma= 0.1  | kernel= rbf  | c= 1000  | accuracy: 0.5333333333333333\n",
            "gamma= 0.1  | kernel= poly  | c= 1000  | accuracy: 0.6\n",
            "gamma= 0.1  | kernel= sigmoid  | c= 1000  | accuracy: 0.52\n",
            "gamma= 1  | kernel= linear  | c= 1000  | accuracy: 0.6133333333333333\n",
            "gamma= 1  | kernel= rbf  | c= 1000  | accuracy: 0.5466666666666666\n",
            "gamma= 1  | kernel= poly  | c= 1000  | accuracy: 0.6\n",
            "gamma= 1  | kernel= sigmoid  | c= 1000  | accuracy: 0.5333333333333333\n",
            "gamma= 10  | kernel= linear  | c= 1000  | accuracy: 0.6133333333333333\n",
            "gamma= 10  | kernel= rbf  | c= 1000  | accuracy: 0.5333333333333333\n",
            "gamma= 10  | kernel= poly  | c= 1000  | accuracy: 0.6\n",
            "gamma= 10  | kernel= sigmoid  | c= 1000  | accuracy: 0.4666666666666667\n",
            "gamma= 100  | kernel= linear  | c= 1000  | accuracy: 0.6133333333333333\n",
            "gamma= 100  | kernel= rbf  | c= 1000  | accuracy: 0.5333333333333333\n",
            "gamma= 100  | kernel= poly  | c= 1000  | accuracy: 0.6\n",
            "gamma= 100  | kernel= sigmoid  | c= 1000  | accuracy: 0.49333333333333335\n"
          ]
        }
      ]
    },
    {
      "cell_type": "markdown",
      "source": [
        "## Sieć neuronowa"
      ],
      "metadata": {
        "id": "YzYE0GOkJAyQ"
      }
    },
    {
      "cell_type": "code",
      "source": [
        "from tensorflow.keras.layers import Input, Dense\n",
        "from keras.callbacks import EarlyStopping\n",
        "from tensorflow import keras\n",
        "import tensorflow as tf\n",
        "\n",
        "model_5 = keras.Sequential([\n",
        "    Dense(units=50, activation='relu', input_shape=[12]),\n",
        "    Dense(units=25, activation='relu'),\n",
        "    Dense(5, activation='softmax')\n",
        "\n",
        "])\n",
        "\n",
        "model_5.compile(\n",
        "        loss=\"sparse_categorical_crossentropy\", \n",
        "        optimizer= \"adam\",\n",
        "        metrics=['accuracy']\n",
        "    )   \n",
        "history = model_5.fit(\n",
        "        stand_norm_X_train, y_train,        \n",
        "        validation_data=None,\n",
        "        batch_size=30,\n",
        "        epochs=30\n",
        ")\n"
      ],
      "metadata": {
        "colab": {
          "base_uri": "https://localhost:8080/"
        },
        "id": "kYH6ZMEHla3B",
        "outputId": "f51e0ed8-a185-4934-8f99-4ff90866ad17"
      },
      "execution_count": null,
      "outputs": [
        {
          "output_type": "stream",
          "name": "stdout",
          "text": [
            "Epoch 1/30\n",
            "8/8 [==============================] - 1s 3ms/step - loss: 1.6490 - accuracy: 0.2477\n",
            "Epoch 2/30\n",
            "8/8 [==============================] - 0s 2ms/step - loss: 1.4938 - accuracy: 0.4550\n",
            "Epoch 3/30\n",
            "8/8 [==============================] - 0s 3ms/step - loss: 1.3681 - accuracy: 0.5405\n",
            "Epoch 4/30\n",
            "8/8 [==============================] - 0s 3ms/step - loss: 1.2619 - accuracy: 0.5631\n",
            "Epoch 5/30\n",
            "8/8 [==============================] - 0s 3ms/step - loss: 1.1661 - accuracy: 0.5766\n",
            "Epoch 6/30\n",
            "8/8 [==============================] - 0s 2ms/step - loss: 1.0929 - accuracy: 0.5856\n",
            "Epoch 7/30\n",
            "8/8 [==============================] - 0s 3ms/step - loss: 1.0418 - accuracy: 0.5856\n",
            "Epoch 8/30\n",
            "8/8 [==============================] - 0s 2ms/step - loss: 1.0017 - accuracy: 0.5856\n",
            "Epoch 9/30\n",
            "8/8 [==============================] - 0s 2ms/step - loss: 0.9713 - accuracy: 0.6036\n",
            "Epoch 10/30\n",
            "8/8 [==============================] - 0s 2ms/step - loss: 0.9481 - accuracy: 0.6081\n",
            "Epoch 11/30\n",
            "8/8 [==============================] - 0s 2ms/step - loss: 0.9273 - accuracy: 0.6081\n",
            "Epoch 12/30\n",
            "8/8 [==============================] - 0s 2ms/step - loss: 0.9115 - accuracy: 0.6216\n",
            "Epoch 13/30\n",
            "8/8 [==============================] - 0s 3ms/step - loss: 0.8959 - accuracy: 0.6216\n",
            "Epoch 14/30\n",
            "8/8 [==============================] - 0s 4ms/step - loss: 0.8822 - accuracy: 0.6216\n",
            "Epoch 15/30\n",
            "8/8 [==============================] - 0s 3ms/step - loss: 0.8702 - accuracy: 0.6261\n",
            "Epoch 16/30\n",
            "8/8 [==============================] - 0s 3ms/step - loss: 0.8594 - accuracy: 0.6577\n",
            "Epoch 17/30\n",
            "8/8 [==============================] - 0s 2ms/step - loss: 0.8504 - accuracy: 0.6532\n",
            "Epoch 18/30\n",
            "8/8 [==============================] - 0s 2ms/step - loss: 0.8400 - accuracy: 0.6577\n",
            "Epoch 19/30\n",
            "8/8 [==============================] - 0s 2ms/step - loss: 0.8306 - accuracy: 0.6622\n",
            "Epoch 20/30\n",
            "8/8 [==============================] - 0s 3ms/step - loss: 0.8218 - accuracy: 0.6667\n",
            "Epoch 21/30\n",
            "8/8 [==============================] - 0s 4ms/step - loss: 0.8129 - accuracy: 0.6712\n",
            "Epoch 22/30\n",
            "8/8 [==============================] - 0s 3ms/step - loss: 0.8050 - accuracy: 0.6757\n",
            "Epoch 23/30\n",
            "8/8 [==============================] - 0s 3ms/step - loss: 0.7958 - accuracy: 0.6847\n",
            "Epoch 24/30\n",
            "8/8 [==============================] - 0s 3ms/step - loss: 0.7880 - accuracy: 0.6892\n",
            "Epoch 25/30\n",
            "8/8 [==============================] - 0s 3ms/step - loss: 0.7804 - accuracy: 0.6847\n",
            "Epoch 26/30\n",
            "8/8 [==============================] - 0s 3ms/step - loss: 0.7729 - accuracy: 0.6982\n",
            "Epoch 27/30\n",
            "8/8 [==============================] - 0s 3ms/step - loss: 0.7654 - accuracy: 0.7117\n",
            "Epoch 28/30\n",
            "8/8 [==============================] - 0s 2ms/step - loss: 0.7580 - accuracy: 0.7117\n",
            "Epoch 29/30\n",
            "8/8 [==============================] - 0s 3ms/step - loss: 0.7505 - accuracy: 0.7162\n",
            "Epoch 30/30\n",
            "8/8 [==============================] - 0s 3ms/step - loss: 0.7431 - accuracy: 0.7162\n"
          ]
        }
      ]
    },
    {
      "cell_type": "code",
      "source": [
        "pred_5 = model_5.predict(stand_norm_X_valid)\n",
        "pred_5_1 = np.argmax(pred_5,axis=1)\n",
        "pred_5_1\n",
        "accuracy_score(y_valid,pred_5_1)"
      ],
      "metadata": {
        "colab": {
          "base_uri": "https://localhost:8080/"
        },
        "id": "IJRzr92VrqUa",
        "outputId": "b4041925-a7e4-4d1c-97eb-3b0721c38418"
      },
      "execution_count": null,
      "outputs": [
        {
          "output_type": "stream",
          "name": "stdout",
          "text": [
            "3/3 [==============================] - 0s 4ms/step\n"
          ]
        },
        {
          "output_type": "execute_result",
          "data": {
            "text/plain": [
              "0.6266666666666667"
            ]
          },
          "metadata": {},
          "execution_count": 16
        }
      ]
    },
    {
      "cell_type": "code",
      "source": [
        "# proces uczenia sieci na zbiorze treningowym\n",
        "plt.plot(history.history['accuracy'])\n",
        "plt.title('model accuracy')\n",
        "plt.ylabel('accuracy')\n",
        "plt.xlabel('epoch')\n",
        "plt.legend(['train'], loc='upper left')\n",
        "plt.show()\n"
      ],
      "metadata": {
        "id": "vDprcoO5kOXj",
        "outputId": "b85f211c-d689-4b75-85f0-9547fc34934b",
        "colab": {
          "base_uri": "https://localhost:8080/",
          "height": 295
        }
      },
      "execution_count": null,
      "outputs": [
        {
          "output_type": "display_data",
          "data": {
            "text/plain": [
              "<Figure size 432x288 with 1 Axes>"
            ],
            "image/png": "[encoded data removed]"
          },
          "metadata": {
            "needs_background": "light"
          }
        }
      ]
    },
    {
      "cell_type": "markdown",
      "source": [
        "## Zapisany model sieci neuronowej z dokładnością 72%"
      ],
      "metadata": {
        "id": "LysE1SETMJmS"
      }
    },
    {
      "cell_type": "code",
      "source": [
        "# plik pickle dostępny pod adresem\n",
        "# https://drive.google.com/file/d/1oTM95Cl0M1REqvNtxh2KUKmAHN_Uw7V3/view?usp=sharing\n",
        "# należy pobrać i umieścić w folderze z projektem w google colab\n",
        "# lokalnie na dysku mogą wystąpić problemy z czytaniem pliku\n",
        "'''\n",
        "import pickle\n",
        "pickled_model = pickle.load(open('model.pkl', 'rb'))\n",
        "pickled_pred = pickled_model.predict(stand_norm_X_valid)\n",
        "pickled_pred = np.argmax(pickled_pred,axis=1)\n",
        "accuracy_score(y_valid,pickled_pred)\n",
        "'''"
      ],
      "metadata": {
        "colab": {
          "base_uri": "https://localhost:8080/",
          "height": 36
        },
        "id": "jEdcE-k0LMYK",
        "outputId": "fe5e49bc-0e2d-4e45-f019-ab3f7977f911"
      },
      "execution_count": null,
      "outputs": [
        {
          "output_type": "execute_result",
          "data": {
            "text/plain": [
              "\"\\nimport pickle\\npickled_model = pickle.load(open('model.pkl', 'rb'))\\npickled_pred = pickled_model.predict(stand_norm_X_valid)\\npickled_pred = np.argmax(pickled_pred,axis=1)\\naccuracy_score(y_valid,pickled_pred)\\n\""
            ],
            "application/vnd.google.colaboratory.intrinsic+json": {
              "type": "string"
            }
          },
          "metadata": {},
          "execution_count": 19
        }
      ]
    },
    {
      "cell_type": "markdown",
      "source": [
        "## XGBoost"
      ],
      "metadata": {
        "id": "4owDiNNEJTjO"
      }
    },
    {
      "cell_type": "code",
      "source": [
        "from xgboost import XGBClassifier\n",
        "\n",
        "model_6 = XGBClassifier(max_depth = 3, learning_rate = 0.01, n_estimators = 250,random_state=1)\n",
        "model_6.fit(stand_norm_X_train, y_train)\n",
        "pred_6 = model_6.predict(stand_norm_X_valid)\n",
        "\n",
        "accuracy_score(y_valid,pred_6)\n"
      ],
      "metadata": {
        "colab": {
          "base_uri": "https://localhost:8080/"
        },
        "id": "3M1H1t5Vvrrd",
        "outputId": "0a648693-3d6b-4a97-bafd-7f03aebf3a83"
      },
      "execution_count": null,
      "outputs": [
        {
          "output_type": "execute_result",
          "data": {
            "text/plain": [
              "0.5733333333333334"
            ]
          },
          "metadata": {},
          "execution_count": 20
        }
      ]
    },
    {
      "cell_type": "markdown",
      "source": [
        "## Naiwny klasyfikator Bayesa"
      ],
      "metadata": {
        "id": "D7rb7h1rJYP-"
      }
    },
    {
      "cell_type": "code",
      "source": [
        "from sklearn.naive_bayes import GaussianNB, MultinomialNB\n",
        "model_7 = GaussianNB()\n",
        "model_7.fit(stand_norm_X_train, y_train)\n",
        "pred_7 = model_7.predict(stand_norm_X_valid)\n",
        "accuracy_score(y_valid,pred_7)"
      ],
      "metadata": {
        "colab": {
          "base_uri": "https://localhost:8080/"
        },
        "id": "N2sXD5USxA-r",
        "outputId": "46245d02-3e7c-470c-8331-b3881c8290b0"
      },
      "execution_count": null,
      "outputs": [
        {
          "output_type": "execute_result",
          "data": {
            "text/plain": [
              "0.6266666666666667"
            ]
          },
          "metadata": {},
          "execution_count": 21
        }
      ]
    },
    {
      "cell_type": "markdown",
      "source": [
        "## Random Forest"
      ],
      "metadata": {
        "id": "rcc8HbBsJbwG"
      }
    },
    {
      "cell_type": "code",
      "source": [
        "from sklearn.ensemble import RandomForestClassifier\n",
        "estimators = [1,10,50,200]\n",
        "features = ['sqrt','log2',None]\n",
        "for feature in features:\n",
        "    for e in estimators:\n",
        "        rf_model = RandomForestClassifier(n_estimators=e, max_features=feature, random_state=1)\n",
        "        rf_model.fit(stand_norm_X_train, y_train)\n",
        "        pred_8 = rf_model.predict(stand_norm_X_valid)\n",
        "        print(\"estimators=\",e,\" | max_features=\",feature,\" | accuracy:\",accuracy_score(y_valid,pred_8))"
      ],
      "metadata": {
        "colab": {
          "base_uri": "https://localhost:8080/"
        },
        "id": "GuJrjoYEQdP2",
        "outputId": "3e5e5cd9-5405-472d-88c8-5f986ad08093"
      },
      "execution_count": null,
      "outputs": [
        {
          "output_type": "stream",
          "name": "stdout",
          "text": [
            "estimators= 1  | max_features= sqrt  | accuracy: 0.5466666666666666\n",
            "estimators= 10  | max_features= sqrt  | accuracy: 0.5733333333333334\n",
            "estimators= 50  | max_features= sqrt  | accuracy: 0.5733333333333334\n",
            "estimators= 200  | max_features= sqrt  | accuracy: 0.6\n",
            "estimators= 1  | max_features= log2  | accuracy: 0.5466666666666666\n",
            "estimators= 10  | max_features= log2  | accuracy: 0.5733333333333334\n",
            "estimators= 50  | max_features= log2  | accuracy: 0.5733333333333334\n",
            "estimators= 200  | max_features= log2  | accuracy: 0.6\n",
            "estimators= 1  | max_features= None  | accuracy: 0.5866666666666667\n",
            "estimators= 10  | max_features= None  | accuracy: 0.56\n",
            "estimators= 50  | max_features= None  | accuracy: 0.6\n",
            "estimators= 200  | max_features= None  | accuracy: 0.6133333333333333\n"
          ]
        }
      ]
    },
    {
      "cell_type": "markdown",
      "source": [
        "## Bagging"
      ],
      "metadata": {
        "id": "bvorC2JWJgWR"
      }
    },
    {
      "cell_type": "code",
      "source": [
        "from sklearn.ensemble import BaggingClassifier\n",
        "from sklearn.tree import DecisionTreeClassifier\n",
        "\n",
        "bag_model = BaggingClassifier(\n",
        "  base_estimator=DecisionTreeClassifier(), \n",
        "  n_estimators=100, \n",
        "  max_samples=0.8, \n",
        "  bootstrap=True,\n",
        "  oob_score=True,\n",
        "  random_state=1\n",
        ")\n",
        "bag_model.fit(stand_norm_X_train, y_train)\n",
        "\n",
        "pred_9 = bag_model.predict(stand_norm_X_valid)\n",
        "\n",
        "accuracy_score(y_valid,pred_9)"
      ],
      "metadata": {
        "colab": {
          "base_uri": "https://localhost:8080/"
        },
        "id": "41FdQf6eRVXu",
        "outputId": "de792d47-535d-4dff-b83a-4b47c41ff7f4"
      },
      "execution_count": null,
      "outputs": [
        {
          "output_type": "execute_result",
          "data": {
            "text/plain": [
              "0.6266666666666667"
            ]
          },
          "metadata": {},
          "execution_count": 23
        }
      ]
    },
    {
      "cell_type": "code",
      "source": [
        "from sklearn.naive_bayes import CategoricalNB, MultinomialNB\n",
        "\n",
        "model_10 = CategoricalNB()\n",
        "model_10.fit(stand_norm_X_train, y_train)\n",
        "pred_10 = bag_model.predict(stand_norm_X_valid)\n",
        "\n",
        "accuracy_score(y_valid,pred_10)"
      ],
      "metadata": {
        "colab": {
          "base_uri": "https://localhost:8080/",
          "height": 399
        },
        "id": "fk1g3MOpRK8J",
        "outputId": "e576fe61-70c3-45d0-bced-af83f0336f43"
      },
      "execution_count": null,
      "outputs": [
        {
          "output_type": "error",
          "ename": "ValueError",
          "evalue": "ignored",
          "traceback": [
            "\u001b[0;31m---------------------------------------------------------------------------\u001b[0m",
            "\u001b[0;31mValueError\u001b[0m                                Traceback (most recent call last)",
            "\u001b[0;32m<ipython-input-25-af0543014d50>\u001b[0m in \u001b[0;36m<module>\u001b[0;34m\u001b[0m\n\u001b[1;32m      2\u001b[0m \u001b[0;34m\u001b[0m\u001b[0m\n\u001b[1;32m      3\u001b[0m \u001b[0mmodel_10\u001b[0m \u001b[0;34m=\u001b[0m \u001b[0mCategoricalNB\u001b[0m\u001b[0;34m(\u001b[0m\u001b[0;34m)\u001b[0m\u001b[0;34m\u001b[0m\u001b[0;34m\u001b[0m\u001b[0m\n\u001b[0;32m----> 4\u001b[0;31m \u001b[0mmodel_10\u001b[0m\u001b[0;34m.\u001b[0m\u001b[0mfit\u001b[0m\u001b[0;34m(\u001b[0m\u001b[0mstand_norm_X_train\u001b[0m\u001b[0;34m,\u001b[0m \u001b[0my_train\u001b[0m\u001b[0;34m)\u001b[0m\u001b[0;34m\u001b[0m\u001b[0;34m\u001b[0m\u001b[0m\n\u001b[0m\u001b[1;32m      5\u001b[0m \u001b[0mpred_10\u001b[0m \u001b[0;34m=\u001b[0m \u001b[0mbag_model\u001b[0m\u001b[0;34m.\u001b[0m\u001b[0mpredict\u001b[0m\u001b[0;34m(\u001b[0m\u001b[0mstand_norm_X_valid\u001b[0m\u001b[0;34m)\u001b[0m\u001b[0;34m\u001b[0m\u001b[0;34m\u001b[0m\u001b[0m\n\u001b[1;32m      6\u001b[0m \u001b[0;34m\u001b[0m\u001b[0m\n",
            "\u001b[0;32m/usr/local/lib/python3.8/dist-packages/sklearn/naive_bayes.py\u001b[0m in \u001b[0;36mfit\u001b[0;34m(self, X, y, sample_weight)\u001b[0m\n\u001b[1;32m   1324\u001b[0m             \u001b[0mReturns\u001b[0m \u001b[0mthe\u001b[0m \u001b[0minstance\u001b[0m \u001b[0mitself\u001b[0m\u001b[0;34m.\u001b[0m\u001b[0;34m\u001b[0m\u001b[0;34m\u001b[0m\u001b[0m\n\u001b[1;32m   1325\u001b[0m         \"\"\"\n\u001b[0;32m-> 1326\u001b[0;31m         \u001b[0;32mreturn\u001b[0m \u001b[0msuper\u001b[0m\u001b[0;34m(\u001b[0m\u001b[0;34m)\u001b[0m\u001b[0;34m.\u001b[0m\u001b[0mfit\u001b[0m\u001b[0;34m(\u001b[0m\u001b[0mX\u001b[0m\u001b[0;34m,\u001b[0m \u001b[0my\u001b[0m\u001b[0;34m,\u001b[0m \u001b[0msample_weight\u001b[0m\u001b[0;34m=\u001b[0m\u001b[0msample_weight\u001b[0m\u001b[0;34m)\u001b[0m\u001b[0;34m\u001b[0m\u001b[0;34m\u001b[0m\u001b[0m\n\u001b[0m\u001b[1;32m   1327\u001b[0m \u001b[0;34m\u001b[0m\u001b[0m\n\u001b[1;32m   1328\u001b[0m     \u001b[0;32mdef\u001b[0m \u001b[0mpartial_fit\u001b[0m\u001b[0;34m(\u001b[0m\u001b[0mself\u001b[0m\u001b[0;34m,\u001b[0m \u001b[0mX\u001b[0m\u001b[0;34m,\u001b[0m \u001b[0my\u001b[0m\u001b[0;34m,\u001b[0m \u001b[0mclasses\u001b[0m\u001b[0;34m=\u001b[0m\u001b[0;32mNone\u001b[0m\u001b[0;34m,\u001b[0m \u001b[0msample_weight\u001b[0m\u001b[0;34m=\u001b[0m\u001b[0;32mNone\u001b[0m\u001b[0;34m)\u001b[0m\u001b[0;34m:\u001b[0m\u001b[0;34m\u001b[0m\u001b[0;34m\u001b[0m\u001b[0m\n",
            "\u001b[0;32m/usr/local/lib/python3.8/dist-packages/sklearn/naive_bayes.py\u001b[0m in \u001b[0;36mfit\u001b[0;34m(self, X, y, sample_weight)\u001b[0m\n\u001b[1;32m    661\u001b[0m             \u001b[0mReturns\u001b[0m \u001b[0mthe\u001b[0m \u001b[0minstance\u001b[0m \u001b[0mitself\u001b[0m\u001b[0;34m.\u001b[0m\u001b[0;34m\u001b[0m\u001b[0;34m\u001b[0m\u001b[0m\n\u001b[1;32m    662\u001b[0m         \"\"\"\n\u001b[0;32m--> 663\u001b[0;31m         \u001b[0mX\u001b[0m\u001b[0;34m,\u001b[0m \u001b[0my\u001b[0m \u001b[0;34m=\u001b[0m \u001b[0mself\u001b[0m\u001b[0;34m.\u001b[0m\u001b[0m_check_X_y\u001b[0m\u001b[0;34m(\u001b[0m\u001b[0mX\u001b[0m\u001b[0;34m,\u001b[0m \u001b[0my\u001b[0m\u001b[0;34m)\u001b[0m\u001b[0;34m\u001b[0m\u001b[0;34m\u001b[0m\u001b[0m\n\u001b[0m\u001b[1;32m    664\u001b[0m         \u001b[0m_\u001b[0m\u001b[0;34m,\u001b[0m \u001b[0mn_features\u001b[0m \u001b[0;34m=\u001b[0m \u001b[0mX\u001b[0m\u001b[0;34m.\u001b[0m\u001b[0mshape\u001b[0m\u001b[0;34m\u001b[0m\u001b[0;34m\u001b[0m\u001b[0m\n\u001b[1;32m    665\u001b[0m \u001b[0;34m\u001b[0m\u001b[0m\n",
            "\u001b[0;32m/usr/local/lib/python3.8/dist-packages/sklearn/naive_bayes.py\u001b[0m in \u001b[0;36m_check_X_y\u001b[0;34m(self, X, y, reset)\u001b[0m\n\u001b[1;32m   1385\u001b[0m             \u001b[0mX\u001b[0m\u001b[0;34m,\u001b[0m \u001b[0my\u001b[0m\u001b[0;34m,\u001b[0m \u001b[0mdtype\u001b[0m\u001b[0;34m=\u001b[0m\u001b[0;34m\"int\"\u001b[0m\u001b[0;34m,\u001b[0m \u001b[0maccept_sparse\u001b[0m\u001b[0;34m=\u001b[0m\u001b[0;32mFalse\u001b[0m\u001b[0;34m,\u001b[0m \u001b[0mforce_all_finite\u001b[0m\u001b[0;34m=\u001b[0m\u001b[0;32mTrue\u001b[0m\u001b[0;34m,\u001b[0m \u001b[0mreset\u001b[0m\u001b[0;34m=\u001b[0m\u001b[0mreset\u001b[0m\u001b[0;34m\u001b[0m\u001b[0;34m\u001b[0m\u001b[0m\n\u001b[1;32m   1386\u001b[0m         )\n\u001b[0;32m-> 1387\u001b[0;31m         \u001b[0mcheck_non_negative\u001b[0m\u001b[0;34m(\u001b[0m\u001b[0mX\u001b[0m\u001b[0;34m,\u001b[0m \u001b[0;34m\"CategoricalNB (input X)\"\u001b[0m\u001b[0;34m)\u001b[0m\u001b[0;34m\u001b[0m\u001b[0;34m\u001b[0m\u001b[0m\n\u001b[0m\u001b[1;32m   1388\u001b[0m         \u001b[0;32mreturn\u001b[0m \u001b[0mX\u001b[0m\u001b[0;34m,\u001b[0m \u001b[0my\u001b[0m\u001b[0;34m\u001b[0m\u001b[0;34m\u001b[0m\u001b[0m\n\u001b[1;32m   1389\u001b[0m \u001b[0;34m\u001b[0m\u001b[0m\n",
            "\u001b[0;32m/usr/local/lib/python3.8/dist-packages/sklearn/utils/validation.py\u001b[0m in \u001b[0;36mcheck_non_negative\u001b[0;34m(X, whom)\u001b[0m\n\u001b[1;32m   1247\u001b[0m \u001b[0;34m\u001b[0m\u001b[0m\n\u001b[1;32m   1248\u001b[0m     \u001b[0;32mif\u001b[0m \u001b[0mX_min\u001b[0m \u001b[0;34m<\u001b[0m \u001b[0;36m0\u001b[0m\u001b[0;34m:\u001b[0m\u001b[0;34m\u001b[0m\u001b[0;34m\u001b[0m\u001b[0m\n\u001b[0;32m-> 1249\u001b[0;31m         \u001b[0;32mraise\u001b[0m \u001b[0mValueError\u001b[0m\u001b[0;34m(\u001b[0m\u001b[0;34m\"Negative values in data passed to %s\"\u001b[0m \u001b[0;34m%\u001b[0m \u001b[0mwhom\u001b[0m\u001b[0;34m)\u001b[0m\u001b[0;34m\u001b[0m\u001b[0;34m\u001b[0m\u001b[0m\n\u001b[0m\u001b[1;32m   1250\u001b[0m \u001b[0;34m\u001b[0m\u001b[0m\n\u001b[1;32m   1251\u001b[0m \u001b[0;34m\u001b[0m\u001b[0m\n",
            "\u001b[0;31mValueError\u001b[0m: Negative values in data passed to CategoricalNB (input X)"
          ]
        }
      ]
    }
  ]
}