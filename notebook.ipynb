{
 "cells": [
  {
   "cell_type": "markdown",
   "metadata": {
    "id": "gfQOhprWIBTW"
   },
   "source": [
    "# Kolekcja danych\n"
   ]
  },
  {
   "cell_type": "code",
   "execution_count": 1,
   "metadata": {
    "id": "BKbLOjYwWRli"
   },
   "outputs": [],
   "source": [
    "import pandas as pd\n",
    "\n",
    "heart_disease_url = 'https://archive.ics.uci.edu/ml/machine-learning-databases/heart-disease/processed.cleveland.data'\n",
    "col_names = ['age','sex', 'cp','trestbps','chol','fbs','restecg','thalach','exang','oldpeak','slope', 'ca','thal','num']\n",
    "\n",
    "data = pd.read_csv(heart_disease_url,names=col_names)\n",
    "\n",
    "# sex 1 == male; 2 == female\n",
    "# cp - chest pain type (1 == typical angina; 2 == atypical angina; 3 == non-anginal pain; 4 == asymptomatic)\n",
    "# trestbps - resting blood presure\n",
    "# chol - cholesterol lebel\n",
    "# fbs - (fasting blood sugar > 120 mg/dl)  (1 = true; 0 = false)\n",
    "# restecg - resting electrocardiographic results (0 == normal, 1 == abnormality; 2 == left Estes hypertophy )\n",
    "# thalach - maximum heart rate achieved\n",
    "# exang -  exercise induced angina (1 == yes; 0 == no)\n",
    "# oldpeak - ST depression induced by exercise relative to rest\n",
    "# slope - the slope of the peak exercise ST segment (1 == upsloping; 2 == flat; 3 == downsloping)\n",
    "# ca: number of major vessels colored by flourosopy (0-3) \n",
    "# thal: (3 == normal; 6 == fixed defect; 7 == reversable defect)\n",
    "# num: diagnosis of heart disease (angiographic disease status); (0: < 50% diameter narrowing; 1: > 50% diameter narrowing)\n",
    "\n"
   ]
  },
  {
   "cell_type": "markdown",
   "metadata": {
    "id": "KF36LUhkIRAG"
   },
   "source": [
    "# Eksploracja i czyszczenie danych"
   ]
  },
  {
   "cell_type": "code",
   "execution_count": 2,
   "metadata": {
    "colab": {
     "base_uri": "https://localhost:8080/",
     "height": 206
    },
    "id": "A-o-SPqGKKhy",
    "outputId": "bef0cacb-9d47-46ac-c3c0-bd5bb967b296"
   },
   "outputs": [
    {
     "data": {
      "text/html": [
       "<div>\n",
       "<style scoped>\n",
       "    .dataframe tbody tr th:only-of-type {\n",
       "        vertical-align: middle;\n",
       "    }\n",
       "\n",
       "    .dataframe tbody tr th {\n",
       "        vertical-align: top;\n",
       "    }\n",
       "\n",
       "    .dataframe thead th {\n",
       "        text-align: right;\n",
       "    }\n",
       "</style>\n",
       "<table border=\"1\" class=\"dataframe\">\n",
       "  <thead>\n",
       "    <tr style=\"text-align: right;\">\n",
       "      <th></th>\n",
       "      <th>age</th>\n",
       "      <th>sex</th>\n",
       "      <th>cp</th>\n",
       "      <th>trestbps</th>\n",
       "      <th>chol</th>\n",
       "      <th>fbs</th>\n",
       "      <th>restecg</th>\n",
       "      <th>thalach</th>\n",
       "      <th>exang</th>\n",
       "      <th>oldpeak</th>\n",
       "      <th>slope</th>\n",
       "      <th>ca</th>\n",
       "      <th>thal</th>\n",
       "      <th>num</th>\n",
       "    </tr>\n",
       "  </thead>\n",
       "  <tbody>\n",
       "    <tr>\n",
       "      <th>0</th>\n",
       "      <td>63.0</td>\n",
       "      <td>1.0</td>\n",
       "      <td>1.0</td>\n",
       "      <td>145.0</td>\n",
       "      <td>233.0</td>\n",
       "      <td>1.0</td>\n",
       "      <td>2.0</td>\n",
       "      <td>150.0</td>\n",
       "      <td>0.0</td>\n",
       "      <td>2.3</td>\n",
       "      <td>3.0</td>\n",
       "      <td>0.0</td>\n",
       "      <td>6.0</td>\n",
       "      <td>0</td>\n",
       "    </tr>\n",
       "    <tr>\n",
       "      <th>1</th>\n",
       "      <td>67.0</td>\n",
       "      <td>1.0</td>\n",
       "      <td>4.0</td>\n",
       "      <td>160.0</td>\n",
       "      <td>286.0</td>\n",
       "      <td>0.0</td>\n",
       "      <td>2.0</td>\n",
       "      <td>108.0</td>\n",
       "      <td>1.0</td>\n",
       "      <td>1.5</td>\n",
       "      <td>2.0</td>\n",
       "      <td>3.0</td>\n",
       "      <td>3.0</td>\n",
       "      <td>2</td>\n",
       "    </tr>\n",
       "    <tr>\n",
       "      <th>2</th>\n",
       "      <td>67.0</td>\n",
       "      <td>1.0</td>\n",
       "      <td>4.0</td>\n",
       "      <td>120.0</td>\n",
       "      <td>229.0</td>\n",
       "      <td>0.0</td>\n",
       "      <td>2.0</td>\n",
       "      <td>129.0</td>\n",
       "      <td>1.0</td>\n",
       "      <td>2.6</td>\n",
       "      <td>2.0</td>\n",
       "      <td>2.0</td>\n",
       "      <td>7.0</td>\n",
       "      <td>1</td>\n",
       "    </tr>\n",
       "    <tr>\n",
       "      <th>3</th>\n",
       "      <td>37.0</td>\n",
       "      <td>1.0</td>\n",
       "      <td>3.0</td>\n",
       "      <td>130.0</td>\n",
       "      <td>250.0</td>\n",
       "      <td>0.0</td>\n",
       "      <td>0.0</td>\n",
       "      <td>187.0</td>\n",
       "      <td>0.0</td>\n",
       "      <td>3.5</td>\n",
       "      <td>3.0</td>\n",
       "      <td>0.0</td>\n",
       "      <td>3.0</td>\n",
       "      <td>0</td>\n",
       "    </tr>\n",
       "    <tr>\n",
       "      <th>4</th>\n",
       "      <td>41.0</td>\n",
       "      <td>0.0</td>\n",
       "      <td>2.0</td>\n",
       "      <td>130.0</td>\n",
       "      <td>204.0</td>\n",
       "      <td>0.0</td>\n",
       "      <td>2.0</td>\n",
       "      <td>172.0</td>\n",
       "      <td>0.0</td>\n",
       "      <td>1.4</td>\n",
       "      <td>1.0</td>\n",
       "      <td>0.0</td>\n",
       "      <td>3.0</td>\n",
       "      <td>0</td>\n",
       "    </tr>\n",
       "  </tbody>\n",
       "</table>\n",
       "</div>"
      ],
      "text/plain": [
       "    age  sex   cp  trestbps   chol  fbs  restecg  thalach  exang  oldpeak  \\\n",
       "0  63.0  1.0  1.0     145.0  233.0  1.0      2.0    150.0    0.0      2.3   \n",
       "1  67.0  1.0  4.0     160.0  286.0  0.0      2.0    108.0    1.0      1.5   \n",
       "2  67.0  1.0  4.0     120.0  229.0  0.0      2.0    129.0    1.0      2.6   \n",
       "3  37.0  1.0  3.0     130.0  250.0  0.0      0.0    187.0    0.0      3.5   \n",
       "4  41.0  0.0  2.0     130.0  204.0  0.0      2.0    172.0    0.0      1.4   \n",
       "\n",
       "   slope   ca thal  num  \n",
       "0    3.0  0.0  6.0    0  \n",
       "1    2.0  3.0  3.0    2  \n",
       "2    2.0  2.0  7.0    1  \n",
       "3    3.0  0.0  3.0    0  \n",
       "4    1.0  0.0  3.0    0  "
      ]
     },
     "execution_count": 2,
     "metadata": {},
     "output_type": "execute_result"
    }
   ],
   "source": [
    "data.head()"
   ]
  },
  {
   "cell_type": "code",
   "execution_count": 3,
   "metadata": {
    "colab": {
     "base_uri": "https://localhost:8080/",
     "height": 300
    },
    "id": "hXXbKrysX6dU",
    "outputId": "6612202b-7c22-4478-da84-11299247d704"
   },
   "outputs": [
    {
     "data": {
      "text/html": [
       "<div>\n",
       "<style scoped>\n",
       "    .dataframe tbody tr th:only-of-type {\n",
       "        vertical-align: middle;\n",
       "    }\n",
       "\n",
       "    .dataframe tbody tr th {\n",
       "        vertical-align: top;\n",
       "    }\n",
       "\n",
       "    .dataframe thead th {\n",
       "        text-align: right;\n",
       "    }\n",
       "</style>\n",
       "<table border=\"1\" class=\"dataframe\">\n",
       "  <thead>\n",
       "    <tr style=\"text-align: right;\">\n",
       "      <th></th>\n",
       "      <th>age</th>\n",
       "      <th>sex</th>\n",
       "      <th>cp</th>\n",
       "      <th>trestbps</th>\n",
       "      <th>chol</th>\n",
       "      <th>fbs</th>\n",
       "      <th>restecg</th>\n",
       "      <th>thalach</th>\n",
       "      <th>exang</th>\n",
       "      <th>oldpeak</th>\n",
       "      <th>slope</th>\n",
       "      <th>num</th>\n",
       "    </tr>\n",
       "  </thead>\n",
       "  <tbody>\n",
       "    <tr>\n",
       "      <th>count</th>\n",
       "      <td>303.000000</td>\n",
       "      <td>303.000000</td>\n",
       "      <td>303.000000</td>\n",
       "      <td>303.000000</td>\n",
       "      <td>303.000000</td>\n",
       "      <td>303.000000</td>\n",
       "      <td>303.000000</td>\n",
       "      <td>303.000000</td>\n",
       "      <td>303.000000</td>\n",
       "      <td>303.000000</td>\n",
       "      <td>303.000000</td>\n",
       "      <td>303.000000</td>\n",
       "    </tr>\n",
       "    <tr>\n",
       "      <th>mean</th>\n",
       "      <td>54.438944</td>\n",
       "      <td>0.679868</td>\n",
       "      <td>3.158416</td>\n",
       "      <td>131.689769</td>\n",
       "      <td>246.693069</td>\n",
       "      <td>0.148515</td>\n",
       "      <td>0.990099</td>\n",
       "      <td>149.607261</td>\n",
       "      <td>0.326733</td>\n",
       "      <td>1.039604</td>\n",
       "      <td>1.600660</td>\n",
       "      <td>0.937294</td>\n",
       "    </tr>\n",
       "    <tr>\n",
       "      <th>std</th>\n",
       "      <td>9.038662</td>\n",
       "      <td>0.467299</td>\n",
       "      <td>0.960126</td>\n",
       "      <td>17.599748</td>\n",
       "      <td>51.776918</td>\n",
       "      <td>0.356198</td>\n",
       "      <td>0.994971</td>\n",
       "      <td>22.875003</td>\n",
       "      <td>0.469794</td>\n",
       "      <td>1.161075</td>\n",
       "      <td>0.616226</td>\n",
       "      <td>1.228536</td>\n",
       "    </tr>\n",
       "    <tr>\n",
       "      <th>min</th>\n",
       "      <td>29.000000</td>\n",
       "      <td>0.000000</td>\n",
       "      <td>1.000000</td>\n",
       "      <td>94.000000</td>\n",
       "      <td>126.000000</td>\n",
       "      <td>0.000000</td>\n",
       "      <td>0.000000</td>\n",
       "      <td>71.000000</td>\n",
       "      <td>0.000000</td>\n",
       "      <td>0.000000</td>\n",
       "      <td>1.000000</td>\n",
       "      <td>0.000000</td>\n",
       "    </tr>\n",
       "    <tr>\n",
       "      <th>25%</th>\n",
       "      <td>48.000000</td>\n",
       "      <td>0.000000</td>\n",
       "      <td>3.000000</td>\n",
       "      <td>120.000000</td>\n",
       "      <td>211.000000</td>\n",
       "      <td>0.000000</td>\n",
       "      <td>0.000000</td>\n",
       "      <td>133.500000</td>\n",
       "      <td>0.000000</td>\n",
       "      <td>0.000000</td>\n",
       "      <td>1.000000</td>\n",
       "      <td>0.000000</td>\n",
       "    </tr>\n",
       "    <tr>\n",
       "      <th>50%</th>\n",
       "      <td>56.000000</td>\n",
       "      <td>1.000000</td>\n",
       "      <td>3.000000</td>\n",
       "      <td>130.000000</td>\n",
       "      <td>241.000000</td>\n",
       "      <td>0.000000</td>\n",
       "      <td>1.000000</td>\n",
       "      <td>153.000000</td>\n",
       "      <td>0.000000</td>\n",
       "      <td>0.800000</td>\n",
       "      <td>2.000000</td>\n",
       "      <td>0.000000</td>\n",
       "    </tr>\n",
       "    <tr>\n",
       "      <th>75%</th>\n",
       "      <td>61.000000</td>\n",
       "      <td>1.000000</td>\n",
       "      <td>4.000000</td>\n",
       "      <td>140.000000</td>\n",
       "      <td>275.000000</td>\n",
       "      <td>0.000000</td>\n",
       "      <td>2.000000</td>\n",
       "      <td>166.000000</td>\n",
       "      <td>1.000000</td>\n",
       "      <td>1.600000</td>\n",
       "      <td>2.000000</td>\n",
       "      <td>2.000000</td>\n",
       "    </tr>\n",
       "    <tr>\n",
       "      <th>max</th>\n",
       "      <td>77.000000</td>\n",
       "      <td>1.000000</td>\n",
       "      <td>4.000000</td>\n",
       "      <td>200.000000</td>\n",
       "      <td>564.000000</td>\n",
       "      <td>1.000000</td>\n",
       "      <td>2.000000</td>\n",
       "      <td>202.000000</td>\n",
       "      <td>1.000000</td>\n",
       "      <td>6.200000</td>\n",
       "      <td>3.000000</td>\n",
       "      <td>4.000000</td>\n",
       "    </tr>\n",
       "  </tbody>\n",
       "</table>\n",
       "</div>"
      ],
      "text/plain": [
       "              age         sex          cp    trestbps        chol         fbs  \\\n",
       "count  303.000000  303.000000  303.000000  303.000000  303.000000  303.000000   \n",
       "mean    54.438944    0.679868    3.158416  131.689769  246.693069    0.148515   \n",
       "std      9.038662    0.467299    0.960126   17.599748   51.776918    0.356198   \n",
       "min     29.000000    0.000000    1.000000   94.000000  126.000000    0.000000   \n",
       "25%     48.000000    0.000000    3.000000  120.000000  211.000000    0.000000   \n",
       "50%     56.000000    1.000000    3.000000  130.000000  241.000000    0.000000   \n",
       "75%     61.000000    1.000000    4.000000  140.000000  275.000000    0.000000   \n",
       "max     77.000000    1.000000    4.000000  200.000000  564.000000    1.000000   \n",
       "\n",
       "          restecg     thalach       exang     oldpeak       slope         num  \n",
       "count  303.000000  303.000000  303.000000  303.000000  303.000000  303.000000  \n",
       "mean     0.990099  149.607261    0.326733    1.039604    1.600660    0.937294  \n",
       "std      0.994971   22.875003    0.469794    1.161075    0.616226    1.228536  \n",
       "min      0.000000   71.000000    0.000000    0.000000    1.000000    0.000000  \n",
       "25%      0.000000  133.500000    0.000000    0.000000    1.000000    0.000000  \n",
       "50%      1.000000  153.000000    0.000000    0.800000    2.000000    0.000000  \n",
       "75%      2.000000  166.000000    1.000000    1.600000    2.000000    2.000000  \n",
       "max      2.000000  202.000000    1.000000    6.200000    3.000000    4.000000  "
      ]
     },
     "execution_count": 3,
     "metadata": {},
     "output_type": "execute_result"
    }
   ],
   "source": [
    "data.describe()"
   ]
  },
  {
   "cell_type": "code",
   "execution_count": 4,
   "metadata": {
    "colab": {
     "base_uri": "https://localhost:8080/"
    },
    "id": "F2c383JSX7WY",
    "outputId": "37b3f283-9995-4c8c-af71-b33260072cb9"
   },
   "outputs": [
    {
     "data": {
      "text/plain": [
       "age         0\n",
       "sex         0\n",
       "cp          0\n",
       "trestbps    0\n",
       "chol        0\n",
       "fbs         0\n",
       "restecg     0\n",
       "thalach     0\n",
       "exang       0\n",
       "oldpeak     0\n",
       "slope       0\n",
       "ca          0\n",
       "thal        0\n",
       "num         0\n",
       "dtype: int64"
      ]
     },
     "execution_count": 4,
     "metadata": {},
     "output_type": "execute_result"
    }
   ],
   "source": [
    "nulls = data.isnull().sum()\n",
    "nulls"
   ]
  },
  {
   "cell_type": "markdown",
   "metadata": {
    "id": "fK-q2gkzHYq7"
   },
   "source": [
    "Brak wartości typu null, zbiór jest czysty."
   ]
  },
  {
   "cell_type": "code",
   "execution_count": 5,
   "metadata": {
    "colab": {
     "base_uri": "https://localhost:8080/",
     "height": 342
    },
    "id": "N_uKpRORX7dF",
    "outputId": "02a55473-2129-40c9-af1d-1441200bc0fd"
   },
   "outputs": [
    {
     "data": {
      "text/plain": [
       "<AxesSubplot:>"
      ]
     },
     "execution_count": 5,
     "metadata": {},
     "output_type": "execute_result"
    },
    {
     "data": {
      "image/png": "[encoded data removed]",
      "text/plain": [
       "<Figure size 1080x360 with 2 Axes>"
      ]
     },
     "metadata": {
      "needs_background": "light"
     },
     "output_type": "display_data"
    }
   ],
   "source": [
    "pd.plotting.register_matplotlib_converters()\n",
    "import matplotlib.pyplot as plt\n",
    "%matplotlib inline\n",
    "import seaborn as sns\n",
    "\n",
    "plt.figure(figsize=(15,5))\n",
    "corr = data.corr()\n",
    "sns.heatmap(corr, cmap=\"Blues\", annot=True,fmt=\".1f\")"
   ]
  },
  {
   "cell_type": "code",
   "execution_count": 6,
   "metadata": {
    "id": "MkgpDFP9aWqW"
   },
   "outputs": [],
   "source": [
    "import numpy as np\n",
    "data = data.replace(\"?\", np.nan) \n",
    "data.dropna(inplace = True)\n",
    "\n",
    "y = data.num\n",
    "\n",
    "X = data.drop(['num','fbs'], axis=1)"
   ]
  },
  {
   "cell_type": "markdown",
   "metadata": {
    "id": "J3b-UA6-Hfol"
   },
   "source": [
    "Mimo braku wartości null, zbiór okazał się posiadać wartości '?'. Zdecydowaliśmy się usunąć te rekordy, gdyż jest ich mało"
   ]
  },
  {
   "cell_type": "code",
   "execution_count": 7,
   "metadata": {
    "colab": {
     "base_uri": "https://localhost:8080/"
    },
    "id": "71Pd28ERIGi7",
    "outputId": "5b3c1185-c2dd-43e7-9790-cad3e6af5762"
   },
   "outputs": [
    {
     "data": {
      "text/plain": [
       "0    160\n",
       "1     54\n",
       "2     35\n",
       "3     35\n",
       "4     13\n",
       "Name: num, dtype: int64"
      ]
     },
     "execution_count": 7,
     "metadata": {},
     "output_type": "execute_result"
    }
   ],
   "source": [
    "y.value_counts() "
   ]
  },
  {
   "cell_type": "code",
   "execution_count": 8,
   "metadata": {
    "colab": {
     "base_uri": "https://localhost:8080/",
     "height": 624
    },
    "id": "lS_mAjAbDZX4",
    "outputId": "fe1b7d80-1825-47c3-b8b6-9e4277d93c74"
   },
   "outputs": [
    {
     "data": {
      "text/plain": [
       "<AxesSubplot:xlabel='num', ylabel='Count'>"
      ]
     },
     "execution_count": 8,
     "metadata": {},
     "output_type": "execute_result"
    },
    {
     "data": {
      "image/png": "[encoded data removed]",
      "text/plain": [
       "<Figure size 720x720 with 1 Axes>"
      ]
     },
     "metadata": {
      "needs_background": "light"
     },
     "output_type": "display_data"
    }
   ],
   "source": [
    "plt.figure(figsize=(10,10))\n",
    "sns.histplot(y,discrete=True)"
   ]
  },
  {
   "cell_type": "markdown",
   "metadata": {
    "id": "BfAIEEAkHwvj"
   },
   "source": [
    "Dane są nierówno rozłożne, będzie trzeba użyć stratify.\n"
   ]
  },
  {
   "cell_type": "markdown",
   "metadata": {
    "id": "g1zZjL3sIk-3"
   },
   "source": [
    "# Podział danych"
   ]
  },
  {
   "cell_type": "code",
   "execution_count": 9,
   "metadata": {
    "id": "gGYLMrw9aA0P"
   },
   "outputs": [],
   "source": [
    "from sklearn.model_selection import train_test_split\n",
    "X.ca = X.ca.astype('float64') \n",
    "X.thal = X.thal.astype('float64')\n",
    "X_train, X_valid, y_train, y_valid = train_test_split(X,y,train_size=0.75,test_size=0.25, random_state = 0,stratify=y)\n",
    "cols = list(X_train.columns)\n"
   ]
  },
  {
   "cell_type": "markdown",
   "metadata": {
    "id": "sGGqBbbnH3X-"
   },
   "source": [
    "# Skalowanie danych "
   ]
  },
  {
   "cell_type": "code",
   "execution_count": 10,
   "metadata": {
    "id": "GDjfcGmPb_ar"
   },
   "outputs": [],
   "source": [
    "from sklearn.preprocessing import StandardScaler, MinMaxScaler\n",
    "\n",
    "# standaryzacja\n",
    "s = StandardScaler()\n",
    "stand_X_train = pd.DataFrame(s.fit_transform(X_train), columns=X_train.columns)\n",
    "stand_X_valid = pd.DataFrame(s.transform(X_valid), columns=X_valid.columns)"
   ]
  },
  {
   "cell_type": "markdown",
   "metadata": {
    "id": "lFV0rMIkIw0Q"
   },
   "source": [
    "# Modelowanie danych"
   ]
  },
  {
   "cell_type": "markdown",
   "metadata": {
    "id": "4BcG-5JlItBg"
   },
   "source": [
    "## SVM"
   ]
  },
  {
   "cell_type": "code",
   "execution_count": 16,
   "metadata": {
    "colab": {
     "base_uri": "https://localhost:8080/"
    },
    "id": "Etc7Ctrtg-Fv",
    "outputId": "34175bea-4aaf-4cca-8038-ed05cf2a84c5"
   },
   "outputs": [
    {
     "name": "stdout",
     "output_type": "stream",
     "text": [
      "Wielkosc y_valid: (75,), wielkosc pred_2: (75,)\n"
     ]
    },
    {
     "data": {
      "text/plain": [
       "0.6266666666666667"
      ]
     },
     "execution_count": 16,
     "metadata": {},
     "output_type": "execute_result"
    }
   ],
   "source": [
    "# model SVC_2 -> dane standaryzowane\n",
    "from sklearn.svm import SVC\n",
    "from sklearn.metrics import accuracy_score\n",
    "model_2 = SVC(random_state=1)\n",
    "model_2.fit(stand_X_train, y_train)\n",
    "pred_2 = model_2.predict(stand_X_valid)\n",
    "print(f'Wielkosc y_valid: {y_valid.shape}, wielkosc pred_2: {pred_2.shape}')\n",
    "accuracy_score(y_valid,pred_2)"
   ]
  },
  {
   "cell_type": "markdown",
   "metadata": {
    "id": "YzYE0GOkJAyQ"
   },
   "source": [
    "## Sieć neuronowa"
   ]
  },
  {
   "cell_type": "code",
   "execution_count": 17,
   "metadata": {
    "colab": {
     "base_uri": "https://localhost:8080/"
    },
    "id": "kYH6ZMEHla3B",
    "outputId": "f51e0ed8-a185-4934-8f99-4ff90866ad17"
   },
   "outputs": [
    {
     "name": "stdout",
     "output_type": "stream",
     "text": [
      "Epoch 1/30\n",
      "8/8 [==============================] - 1s 5ms/step - loss: 1.6875 - accuracy: 0.1892\n",
      "Epoch 2/30\n",
      "8/8 [==============================] - 0s 5ms/step - loss: 1.5149 - accuracy: 0.3198\n",
      "Epoch 3/30\n",
      "8/8 [==============================] - 0s 4ms/step - loss: 1.3869 - accuracy: 0.5180\n",
      "Epoch 4/30\n",
      "8/8 [==============================] - 0s 2ms/step - loss: 1.2779 - accuracy: 0.5631\n",
      "Epoch 5/30\n",
      "8/8 [==============================] - 0s 2ms/step - loss: 1.1949 - accuracy: 0.5676\n",
      "Epoch 6/30\n",
      "8/8 [==============================] - 0s 2ms/step - loss: 1.1219 - accuracy: 0.5856\n",
      "Epoch 7/30\n",
      "8/8 [==============================] - 0s 2ms/step - loss: 1.0645 - accuracy: 0.5856\n",
      "Epoch 8/30\n",
      "8/8 [==============================] - 0s 2ms/step - loss: 1.0206 - accuracy: 0.5901\n",
      "Epoch 9/30\n",
      "8/8 [==============================] - 0s 2ms/step - loss: 0.9844 - accuracy: 0.6036\n",
      "Epoch 10/30\n",
      "8/8 [==============================] - 0s 1ms/step - loss: 0.9575 - accuracy: 0.6126\n",
      "Epoch 11/30\n",
      "8/8 [==============================] - 0s 2ms/step - loss: 0.9337 - accuracy: 0.6216\n",
      "Epoch 12/30\n",
      "8/8 [==============================] - 0s 2ms/step - loss: 0.9145 - accuracy: 0.6441\n",
      "Epoch 13/30\n",
      "8/8 [==============================] - 0s 1ms/step - loss: 0.8957 - accuracy: 0.6577\n",
      "Epoch 14/30\n",
      "8/8 [==============================] - 0s 2ms/step - loss: 0.8792 - accuracy: 0.6532\n",
      "Epoch 15/30\n",
      "8/8 [==============================] - 0s 2ms/step - loss: 0.8655 - accuracy: 0.6622\n",
      "Epoch 16/30\n",
      "8/8 [==============================] - 0s 2ms/step - loss: 0.8542 - accuracy: 0.6712\n",
      "Epoch 17/30\n",
      "8/8 [==============================] - 0s 2ms/step - loss: 0.8425 - accuracy: 0.6892\n",
      "Epoch 18/30\n",
      "8/8 [==============================] - 0s 1ms/step - loss: 0.8327 - accuracy: 0.6982\n",
      "Epoch 19/30\n",
      "8/8 [==============================] - 0s 2ms/step - loss: 0.8240 - accuracy: 0.6937\n",
      "Epoch 20/30\n",
      "8/8 [==============================] - 0s 1ms/step - loss: 0.8158 - accuracy: 0.6982\n",
      "Epoch 21/30\n",
      "8/8 [==============================] - 0s 2ms/step - loss: 0.8059 - accuracy: 0.7027\n",
      "Epoch 22/30\n",
      "8/8 [==============================] - 0s 2ms/step - loss: 0.7989 - accuracy: 0.6892\n",
      "Epoch 23/30\n",
      "8/8 [==============================] - 0s 2ms/step - loss: 0.7901 - accuracy: 0.6892\n",
      "Epoch 24/30\n",
      "8/8 [==============================] - 0s 2ms/step - loss: 0.7827 - accuracy: 0.6982\n",
      "Epoch 25/30\n",
      "8/8 [==============================] - 0s 2ms/step - loss: 0.7754 - accuracy: 0.7027\n",
      "Epoch 26/30\n",
      "8/8 [==============================] - 0s 2ms/step - loss: 0.7684 - accuracy: 0.6982\n",
      "Epoch 27/30\n",
      "8/8 [==============================] - 0s 2ms/step - loss: 0.7612 - accuracy: 0.6937\n",
      "Epoch 28/30\n",
      "8/8 [==============================] - 0s 2ms/step - loss: 0.7538 - accuracy: 0.6982\n",
      "Epoch 29/30\n",
      "8/8 [==============================] - 0s 2ms/step - loss: 0.7474 - accuracy: 0.7072\n",
      "Epoch 30/30\n",
      "8/8 [==============================] - 0s 2ms/step - loss: 0.7400 - accuracy: 0.7072\n"
     ]
    }
   ],
   "source": [
    "from tensorflow.keras.layers import Input, Dense\n",
    "from keras.callbacks import EarlyStopping\n",
    "from tensorflow import keras\n",
    "import tensorflow as tf\n",
    "\n",
    "model_5 = keras.Sequential([\n",
    "    Dense(units=50, activation='relu', input_shape=[12]),\n",
    "    Dense(units=25, activation='relu'),\n",
    "    Dense(5, activation='softmax')\n",
    "\n",
    "])\n",
    "\n",
    "model_5.compile(\n",
    "        loss=\"sparse_categorical_crossentropy\", \n",
    "        optimizer= \"adam\",\n",
    "        metrics=['accuracy']\n",
    "    )   \n",
    "history = model_5.fit(\n",
    "        stand_X_train, y_train,        \n",
    "        validation_data=None,\n",
    "        batch_size=30,\n",
    "        epochs=30\n",
    ")\n"
   ]
  },
  {
   "cell_type": "code",
   "execution_count": 18,
   "metadata": {
    "colab": {
     "base_uri": "https://localhost:8080/"
    },
    "id": "IJRzr92VrqUa",
    "outputId": "b4041925-a7e4-4d1c-97eb-3b0721c38418"
   },
   "outputs": [
    {
     "data": {
      "text/plain": [
       "0.5866666666666667"
      ]
     },
     "execution_count": 18,
     "metadata": {},
     "output_type": "execute_result"
    }
   ],
   "source": [
    "pred_5 = model_5.predict(stand_X_valid)\n",
    "pred_5_1 = np.argmax(pred_5,axis=1)\n",
    "pred_5_1\n",
    "accuracy_score(y_valid,pred_5_1)"
   ]
  },
  {
   "cell_type": "code",
   "execution_count": 19,
   "metadata": {
    "colab": {
     "base_uri": "https://localhost:8080/",
     "height": 295
    },
    "id": "vDprcoO5kOXj",
    "outputId": "b85f211c-d689-4b75-85f0-9547fc34934b"
   },
   "outputs": [
    {
     "data": {
      "image/png": "[encoded data removed]",
      "text/plain": [
       "<Figure size 432x288 with 1 Axes>"
      ]
     },
     "metadata": {
      "needs_background": "light"
     },
     "output_type": "display_data"
    }
   ],
   "source": [
    "# proces uczenia sieci na zbiorze treningowym\n",
    "plt.plot(history.history['accuracy'])\n",
    "plt.title('model accuracy')\n",
    "plt.ylabel('accuracy')\n",
    "plt.xlabel('epoch')\n",
    "plt.legend(['train'], loc='upper left')\n",
    "plt.show()\n"
   ]
  },
  {
   "cell_type": "markdown",
   "metadata": {
    "id": "LysE1SETMJmS"
   },
   "source": [
    "## Zapisany model sieci neuronowej z dokładnością 72%"
   ]
  },
  {
   "cell_type": "code",
   "execution_count": 20,
   "metadata": {
    "colab": {
     "base_uri": "https://localhost:8080/",
     "height": 36
    },
    "id": "jEdcE-k0LMYK",
    "outputId": "fe5e49bc-0e2d-4e45-f019-ab3f7977f911"
   },
   "outputs": [
    {
     "data": {
      "text/plain": [
       "\"\\nimport pickle\\npickled_model = pickle.load(open('model.pkl', 'rb'))\\npickled_pred = pickled_model.predict(stand_norm_X_valid)\\npickled_pred = np.argmax(pickled_pred,axis=1)\\naccuracy_score(y_valid,pickled_pred)\\n\""
      ]
     },
     "execution_count": 20,
     "metadata": {},
     "output_type": "execute_result"
    }
   ],
   "source": [
    "# plik pickle dostępny pod adresem\n",
    "# https://drive.google.com/file/d/1oTM95Cl0M1REqvNtxh2KUKmAHN_Uw7V3/view?usp=sharing\n",
    "# należy pobrać i umieścić w folderze z projektem w google colab\n",
    "# lokalnie na dysku mogą wystąpić problemy z czytaniem pliku\n",
    "'''\n",
    "import pickle\n",
    "pickled_model = pickle.load(open('model.pkl', 'rb'))\n",
    "pickled_pred = pickled_model.predict(stand_norm_X_valid)\n",
    "pickled_pred = np.argmax(pickled_pred,axis=1)\n",
    "accuracy_score(y_valid,pickled_pred)\n",
    "'''"
   ]
  },
  {
   "cell_type": "markdown",
   "metadata": {
    "id": "4owDiNNEJTjO"
   },
   "source": [
    "## XGBoost"
   ]
  },
  {
   "cell_type": "code",
   "execution_count": 21,
   "metadata": {
    "colab": {
     "base_uri": "https://localhost:8080/"
    },
    "id": "3M1H1t5Vvrrd",
    "outputId": "0a648693-3d6b-4a97-bafd-7f03aebf3a83"
   },
   "outputs": [
    {
     "data": {
      "text/plain": [
       "0.5733333333333334"
      ]
     },
     "execution_count": 21,
     "metadata": {},
     "output_type": "execute_result"
    }
   ],
   "source": [
    "from xgboost import XGBClassifier\n",
    "\n",
    "model_6 = XGBClassifier(max_depth = 3, learning_rate = 0.01, n_estimators = 250,random_state=1)\n",
    "model_6.fit(stand_X_train, y_train)\n",
    "pred_6 = model_6.predict(stand_X_valid)\n",
    "\n",
    "accuracy_score(y_valid,pred_6)\n"
   ]
  },
  {
   "cell_type": "markdown",
   "metadata": {
    "id": "D7rb7h1rJYP-"
   },
   "source": [
    "## Naiwny klasyfikator Bayesa"
   ]
  },
  {
   "cell_type": "code",
   "execution_count": 22,
   "metadata": {
    "colab": {
     "base_uri": "https://localhost:8080/"
    },
    "id": "N2sXD5USxA-r",
    "outputId": "46245d02-3e7c-470c-8331-b3881c8290b0"
   },
   "outputs": [
    {
     "data": {
      "text/plain": [
       "0.6266666666666667"
      ]
     },
     "execution_count": 22,
     "metadata": {},
     "output_type": "execute_result"
    }
   ],
   "source": [
    "from sklearn.naive_bayes import GaussianNB\n",
    "model_7 = GaussianNB()\n",
    "model_7.fit(stand_X_train, y_train)\n",
    "pred_7 = model_7.predict(stand_X_valid)\n",
    "accuracy_score(y_valid,pred_7)"
   ]
  },
  {
   "cell_type": "markdown",
   "metadata": {
    "id": "rcc8HbBsJbwG"
   },
   "source": [
    "## Random Forest"
   ]
  },
  {
   "cell_type": "code",
   "execution_count": 23,
   "metadata": {
    "colab": {
     "base_uri": "https://localhost:8080/"
    },
    "id": "GuJrjoYEQdP2",
    "outputId": "3e5e5cd9-5405-472d-88c8-5f986ad08093"
   },
   "outputs": [
    {
     "name": "stdout",
     "output_type": "stream",
     "text": [
      "estimators= 1  | max_features= sqrt  | accuracy: 0.5466666666666666\n",
      "estimators= 10  | max_features= sqrt  | accuracy: 0.5733333333333334\n",
      "estimators= 50  | max_features= sqrt  | accuracy: 0.5733333333333334\n",
      "estimators= 200  | max_features= sqrt  | accuracy: 0.6\n",
      "estimators= 1  | max_features= log2  | accuracy: 0.5466666666666666\n",
      "estimators= 10  | max_features= log2  | accuracy: 0.5733333333333334\n",
      "estimators= 50  | max_features= log2  | accuracy: 0.5733333333333334\n",
      "estimators= 200  | max_features= log2  | accuracy: 0.6\n",
      "estimators= 1  | max_features= None  | accuracy: 0.5866666666666667\n",
      "estimators= 10  | max_features= None  | accuracy: 0.56\n",
      "estimators= 50  | max_features= None  | accuracy: 0.6\n",
      "estimators= 200  | max_features= None  | accuracy: 0.6133333333333333\n"
     ]
    }
   ],
   "source": [
    "from sklearn.ensemble import RandomForestClassifier\n",
    "estimators = [1,10,50,200]\n",
    "features = ['sqrt','log2',None]\n",
    "for feature in features:\n",
    "    for e in estimators:\n",
    "        rf_model = RandomForestClassifier(n_estimators=e, max_features=feature, random_state=1)\n",
    "        rf_model.fit(stand_X_train, y_train)\n",
    "        pred_8 = rf_model.predict(stand_X_valid)\n",
    "        print(\"estimators=\",e,\" | max_features=\",feature,\" | accuracy:\",accuracy_score(y_valid,pred_8))"
   ]
  },
  {
   "cell_type": "markdown",
   "metadata": {
    "id": "bvorC2JWJgWR"
   },
   "source": [
    "## Bagging"
   ]
  },
  {
   "cell_type": "code",
   "execution_count": 24,
   "metadata": {
    "colab": {
     "base_uri": "https://localhost:8080/"
    },
    "id": "41FdQf6eRVXu",
    "outputId": "de792d47-535d-4dff-b83a-4b47c41ff7f4"
   },
   "outputs": [
    {
     "data": {
      "text/plain": [
       "0.6266666666666667"
      ]
     },
     "execution_count": 24,
     "metadata": {},
     "output_type": "execute_result"
    }
   ],
   "source": [
    "from sklearn.ensemble import BaggingClassifier\n",
    "from sklearn.tree import DecisionTreeClassifier\n",
    "\n",
    "bag_model = BaggingClassifier(\n",
    "  base_estimator=DecisionTreeClassifier(), \n",
    "  n_estimators=100, \n",
    "  max_samples=0.8, \n",
    "  bootstrap=True,\n",
    "  oob_score=True,\n",
    "  random_state=1\n",
    ")\n",
    "bag_model.fit(stand_X_train, y_train)\n",
    "\n",
    "pred_9 = bag_model.predict(stand_X_valid)\n",
    "\n",
    "accuracy_score(y_valid,pred_9)"
   ]
  }
 ],
 "metadata": {
  "colab": {
   "provenance": []
  },
  "kernelspec": {
   "display_name": "Python 3 (ipykernel)",
   "language": "python",
   "name": "python3"
  },
  "language_info": {
   "codemirror_mode": {
    "name": "ipython",
    "version": 3
   },
   "file_extension": ".py",
   "mimetype": "text/x-python",
   "name": "python",
   "nbconvert_exporter": "python",
   "pygments_lexer": "ipython3",
   "version": "3.10.5"
  }
 },
 "nbformat": 4,
 "nbformat_minor": 1
}
